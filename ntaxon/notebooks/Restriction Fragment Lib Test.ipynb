{
 "cells": [
  {
   "cell_type": "code",
   "execution_count": 1,
   "id": "departmental-egyptian",
   "metadata": {},
   "outputs": [],
   "source": [
    "from ntaxon.fingerprinting.rflp import RestrictionDigestion\n",
    "import pandas as pd\n",
    "from Bio import Restriction, SeqIO"
   ]
  },
  {
   "cell_type": "code",
   "execution_count": 2,
   "id": "cultural-ethnic",
   "metadata": {},
   "outputs": [
    {
     "name": "stdout",
     "output_type": "stream",
     "text": [
      "AGCT\n"
     ]
    }
   ],
   "source": [
    "#enzyme=Restriction.MspI\n",
    "enzyme=Restriction.AluI\n",
    "print(enzyme.site)"
   ]
  },
  {
   "cell_type": "code",
   "execution_count": 3,
   "id": "acquired-opinion",
   "metadata": {},
   "outputs": [],
   "source": [
    "restriction = RestrictionDigestion(enzyme=enzyme, fasta=\"data/isolate_sequences_corrected.fasta\")"
   ]
  },
  {
   "cell_type": "code",
   "execution_count": 4,
   "id": "emerging-addiction",
   "metadata": {},
   "outputs": [
    {
     "data": {
      "text/html": [
       "<div>\n",
       "<style scoped>\n",
       "    .dataframe tbody tr th:only-of-type {\n",
       "        vertical-align: middle;\n",
       "    }\n",
       "\n",
       "    .dataframe tbody tr th {\n",
       "        vertical-align: top;\n",
       "    }\n",
       "\n",
       "    .dataframe thead th {\n",
       "        text-align: right;\n",
       "    }\n",
       "</style>\n",
       "<table border=\"1\" class=\"dataframe\">\n",
       "  <thead>\n",
       "    <tr style=\"text-align: right;\">\n",
       "      <th>sample</th>\n",
       "      <th>MN493874.1</th>\n",
       "      <th>MN493875.1</th>\n",
       "      <th>MN493876.1</th>\n",
       "      <th>MN493877.1</th>\n",
       "      <th>MN493878.1</th>\n",
       "      <th>MN493879.1</th>\n",
       "      <th>MN493880.1</th>\n",
       "      <th>MN493881.1</th>\n",
       "      <th>MN493882.1</th>\n",
       "      <th>MN493883.1</th>\n",
       "      <th>...</th>\n",
       "      <th>MN577379.1</th>\n",
       "      <th>MN577380.1</th>\n",
       "      <th>MN577381.1</th>\n",
       "      <th>MN577382.1</th>\n",
       "      <th>MN577383.1</th>\n",
       "      <th>MN577384.1</th>\n",
       "      <th>MN577385.1</th>\n",
       "      <th>MN577386.1</th>\n",
       "      <th>MN577388.1</th>\n",
       "      <th>MN577389.1</th>\n",
       "    </tr>\n",
       "    <tr>\n",
       "      <th>haplotype</th>\n",
       "      <th></th>\n",
       "      <th></th>\n",
       "      <th></th>\n",
       "      <th></th>\n",
       "      <th></th>\n",
       "      <th></th>\n",
       "      <th></th>\n",
       "      <th></th>\n",
       "      <th></th>\n",
       "      <th></th>\n",
       "      <th></th>\n",
       "      <th></th>\n",
       "      <th></th>\n",
       "      <th></th>\n",
       "      <th></th>\n",
       "      <th></th>\n",
       "      <th></th>\n",
       "      <th></th>\n",
       "      <th></th>\n",
       "      <th></th>\n",
       "      <th></th>\n",
       "    </tr>\n",
       "  </thead>\n",
       "  <tbody>\n",
       "    <tr>\n",
       "      <th>6</th>\n",
       "      <td>0</td>\n",
       "      <td>0</td>\n",
       "      <td>0</td>\n",
       "      <td>0</td>\n",
       "      <td>0</td>\n",
       "      <td>0</td>\n",
       "      <td>0</td>\n",
       "      <td>0</td>\n",
       "      <td>0</td>\n",
       "      <td>0</td>\n",
       "      <td>...</td>\n",
       "      <td>0</td>\n",
       "      <td>0</td>\n",
       "      <td>0</td>\n",
       "      <td>0</td>\n",
       "      <td>0</td>\n",
       "      <td>0</td>\n",
       "      <td>0</td>\n",
       "      <td>0</td>\n",
       "      <td>0</td>\n",
       "      <td>0</td>\n",
       "    </tr>\n",
       "    <tr>\n",
       "      <th>50</th>\n",
       "      <td>0</td>\n",
       "      <td>0</td>\n",
       "      <td>0</td>\n",
       "      <td>0</td>\n",
       "      <td>0</td>\n",
       "      <td>0</td>\n",
       "      <td>0</td>\n",
       "      <td>0</td>\n",
       "      <td>0</td>\n",
       "      <td>0</td>\n",
       "      <td>...</td>\n",
       "      <td>0</td>\n",
       "      <td>0</td>\n",
       "      <td>0</td>\n",
       "      <td>0</td>\n",
       "      <td>0</td>\n",
       "      <td>0</td>\n",
       "      <td>0</td>\n",
       "      <td>0</td>\n",
       "      <td>0</td>\n",
       "      <td>0</td>\n",
       "    </tr>\n",
       "    <tr>\n",
       "      <th>60</th>\n",
       "      <td>0</td>\n",
       "      <td>0</td>\n",
       "      <td>0</td>\n",
       "      <td>0</td>\n",
       "      <td>0</td>\n",
       "      <td>0</td>\n",
       "      <td>0</td>\n",
       "      <td>0</td>\n",
       "      <td>0</td>\n",
       "      <td>0</td>\n",
       "      <td>...</td>\n",
       "      <td>0</td>\n",
       "      <td>0</td>\n",
       "      <td>0</td>\n",
       "      <td>0</td>\n",
       "      <td>0</td>\n",
       "      <td>0</td>\n",
       "      <td>0</td>\n",
       "      <td>0</td>\n",
       "      <td>0</td>\n",
       "      <td>0</td>\n",
       "    </tr>\n",
       "    <tr>\n",
       "      <th>76</th>\n",
       "      <td>0</td>\n",
       "      <td>0</td>\n",
       "      <td>0</td>\n",
       "      <td>0</td>\n",
       "      <td>0</td>\n",
       "      <td>0</td>\n",
       "      <td>0</td>\n",
       "      <td>0</td>\n",
       "      <td>0</td>\n",
       "      <td>0</td>\n",
       "      <td>...</td>\n",
       "      <td>0</td>\n",
       "      <td>0</td>\n",
       "      <td>1</td>\n",
       "      <td>0</td>\n",
       "      <td>0</td>\n",
       "      <td>0</td>\n",
       "      <td>0</td>\n",
       "      <td>0</td>\n",
       "      <td>0</td>\n",
       "      <td>0</td>\n",
       "    </tr>\n",
       "    <tr>\n",
       "      <th>90</th>\n",
       "      <td>0</td>\n",
       "      <td>0</td>\n",
       "      <td>0</td>\n",
       "      <td>0</td>\n",
       "      <td>0</td>\n",
       "      <td>0</td>\n",
       "      <td>0</td>\n",
       "      <td>0</td>\n",
       "      <td>0</td>\n",
       "      <td>0</td>\n",
       "      <td>...</td>\n",
       "      <td>0</td>\n",
       "      <td>0</td>\n",
       "      <td>0</td>\n",
       "      <td>0</td>\n",
       "      <td>0</td>\n",
       "      <td>0</td>\n",
       "      <td>0</td>\n",
       "      <td>0</td>\n",
       "      <td>0</td>\n",
       "      <td>0</td>\n",
       "    </tr>\n",
       "  </tbody>\n",
       "</table>\n",
       "<p>5 rows × 72 columns</p>\n",
       "</div>"
      ],
      "text/plain": [
       "sample     MN493874.1  MN493875.1  MN493876.1  MN493877.1  MN493878.1  \\\n",
       "haplotype                                                               \n",
       "6                   0           0           0           0           0   \n",
       "50                  0           0           0           0           0   \n",
       "60                  0           0           0           0           0   \n",
       "76                  0           0           0           0           0   \n",
       "90                  0           0           0           0           0   \n",
       "\n",
       "sample     MN493879.1  MN493880.1  MN493881.1  MN493882.1  MN493883.1  ...  \\\n",
       "haplotype                                                              ...   \n",
       "6                   0           0           0           0           0  ...   \n",
       "50                  0           0           0           0           0  ...   \n",
       "60                  0           0           0           0           0  ...   \n",
       "76                  0           0           0           0           0  ...   \n",
       "90                  0           0           0           0           0  ...   \n",
       "\n",
       "sample     MN577379.1  MN577380.1  MN577381.1  MN577382.1  MN577383.1  \\\n",
       "haplotype                                                               \n",
       "6                   0           0           0           0           0   \n",
       "50                  0           0           0           0           0   \n",
       "60                  0           0           0           0           0   \n",
       "76                  0           0           1           0           0   \n",
       "90                  0           0           0           0           0   \n",
       "\n",
       "sample     MN577384.1  MN577385.1  MN577386.1  MN577388.1  MN577389.1  \n",
       "haplotype                                                              \n",
       "6                   0           0           0           0           0  \n",
       "50                  0           0           0           0           0  \n",
       "60                  0           0           0           0           0  \n",
       "76                  0           0           0           0           0  \n",
       "90                  0           0           0           0           0  \n",
       "\n",
       "[5 rows x 72 columns]"
      ]
     },
     "execution_count": 4,
     "metadata": {},
     "output_type": "execute_result"
    }
   ],
   "source": [
    "matrix_bin = restriction.binary_matrix()\n",
    "matrix_bin.to_df().head()"
   ]
  },
  {
   "cell_type": "code",
   "execution_count": 5,
   "id": "viral-payroll",
   "metadata": {},
   "outputs": [
    {
     "data": {
      "text/plain": [
       "72"
      ]
     },
     "execution_count": 5,
     "metadata": {},
     "output_type": "execute_result"
    }
   ],
   "source": [
    "len(matrix_bin.to_df().columns)"
   ]
  },
  {
   "cell_type": "code",
   "execution_count": 6,
   "id": "governmental-proposition",
   "metadata": {},
   "outputs": [
    {
     "data": {
      "image/png": "[encoded data removed]",
      "text/plain": [
       "<Figure size 1152x720 with 1 Axes>"
      ]
     },
     "metadata": {
      "needs_background": "light"
     },
     "output_type": "display_data"
    }
   ],
   "source": [
    "matrix_bin.plot_electrophoretic_diagram()"
   ]
  },
  {
   "cell_type": "code",
   "execution_count": 7,
   "id": "olive-nomination",
   "metadata": {},
   "outputs": [],
   "source": [
    "from ntaxon.phylogeny.neili import neili"
   ]
  },
  {
   "cell_type": "code",
   "execution_count": 8,
   "id": "native-master",
   "metadata": {},
   "outputs": [],
   "source": [
    "# neili(matrix_bin.to_list(transpose=True), sitelength=4)"
   ]
  },
  {
   "cell_type": "code",
   "execution_count": 18,
   "id": "swiss-anatomy",
   "metadata": {},
   "outputs": [],
   "source": [
    "from ntaxon.phylogeny import DistanceMatrix\n",
    "from Bio import Phylo\n",
    "from Bio.Phylo.TreeConstruction import DistanceTreeConstructor\n",
    "from Bio.Phylo import draw\n",
    "import numpy as np\n",
    "from ntaxon.phylogeny.distance import squareform_to_dist"
   ]
  },
  {
   "cell_type": "code",
   "execution_count": 10,
   "id": "conventional-longitude",
   "metadata": {},
   "outputs": [],
   "source": [
    "dist = matrix_bin.distance(squareform=True)"
   ]
  },
  {
   "cell_type": "code",
   "execution_count": 26,
   "id": "grand-princeton",
   "metadata": {},
   "outputs": [],
   "source": [
    "dm = squareform_to_dist(dist)\n",
    "# print(dm)"
   ]
  },
  {
   "cell_type": "code",
   "execution_count": 31,
   "id": "quality-acoustic",
   "metadata": {},
   "outputs": [],
   "source": [
    "constructor = DistanceTreeConstructor()\n",
    "\n",
    "#tree = constructor.upgma(dm)\n",
    "tree = constructor.nj(dm)\n",
    "\n",
    "#print(tree)"
   ]
  },
  {
   "cell_type": "code",
   "execution_count": 33,
   "id": "professional-wages",
   "metadata": {},
   "outputs": [
    {
     "data": {
      "image/png": "[encoded data removed]",
      "text/plain": [
       "<Figure size 432x288 with 1 Axes>"
      ]
     },
     "metadata": {
      "needs_background": "light"
     },
     "output_type": "display_data"
    }
   ],
   "source": [
    "#tree.ladderize()  # Flip branches so deeper clades are displayed at top\n",
    "draw(tree)"
   ]
  },
  {
   "cell_type": "code",
   "execution_count": 32,
   "id": "opposite-guidance",
   "metadata": {},
   "outputs": [
    {
     "name": "stdout",
     "output_type": "stream",
     "text": [
      "         , S28\n",
      "         |\n",
      "    _____|          , S71\n",
      "   |     |   _______|\n",
      "   |     |__|       |________________________________ S55\n",
      "   |        |\n",
      "   |        |___________________________ S10\n",
      "   |\n",
      "  _|                                 _______________________________ S54\n",
      " | |        ________________________|\n",
      " | | ______|                        | S50\n",
      " | ||      |\n",
      " | ||      | S18\n",
      " | ||\n",
      " | ||                __________________________________ S29\n",
      " |  |    ___________|\n",
      " |  |   |           | S5\n",
      " |  |   |\n",
      " |  |___|       , S66\n",
      " |      | ______|\n",
      " |      ||      |                    ______________________________ S19\n",
      " |      ||      |___________________|\n",
      " |      ||                          | S9\n",
      " |       |\n",
      " |       |        _____________________ S49\n",
      " |       |_______|\n",
      " |               |    _____ S65\n",
      " |               |___|\n",
      " |                   |______________________ S1\n",
      " |\n",
      " |           _________________________________ S53\n",
      " |   _______|\n",
      " |  |       |    , S23\n",
      " |  |       |____|\n",
      " |  |            |                     ______________________________ S25\n",
      " |  |            |____________________|\n",
      " |__|                                 | S13\n",
      " |  |\n",
      " |  |                     , S70\n",
      " |  |     ________________|\n",
      " |  |    |                |________________________________ S60\n",
      " |  |____|\n",
      " |       |       , S20\n",
      " |       |_______|\n",
      " |               |  ____________________________ S52\n",
      " |               |_|\n",
      " |                 |______________________ S3\n",
      " |\n",
      " |                  ______________________ S32\n",
      " |        _________|\n",
      " |       |         |  ____________________________ S48\n",
      " |       |         |_|\n",
      " |    ___|           | S24\n",
      " |   |   |\n",
      " |   |   |    , S67\n",
      " |   |   |____|\n",
      " |   |        |                       ______________________________ S30\n",
      " | __|        |______________________|\n",
      " ||  |                               | S14\n",
      " ||  |\n",
      " ||  |              ___________________________________ S68\n",
      " ||  |    _________|\n",
      " ||  |   |         | S37\n",
      " ||  |___|\n",
      " ||      |        ______________________________ S62\n",
      " ||      |_______|\n",
      " ||              | S7\n",
      " ||\n",
      " ,|           , S33\n",
      " ||      _____|\n",
      "_||     |     |                        _______________________________ S39\n",
      " ||     |     |_______________________|\n",
      " ||  ___|                             | S27\n",
      " || |   |\n",
      " || |   |          ______________________ S47\n",
      " || |   |_________|\n",
      " || |             |        , S38\n",
      " || |             |________|\n",
      " || |                      |________________________________ S16\n",
      " ||_|\n",
      " |  |                               ________________________________ S72\n",
      " |  |      ________________________|\n",
      " |  |     |                        | S42\n",
      " |  | ____|\n",
      " |  ||    |       , S26\n",
      " |  ||    |_______|\n",
      " |  ||            |_________________________________ S6\n",
      " |  ||\n",
      " |   |             ________________________ S69\n",
      " |   |      ______|\n",
      " |   |     |      |___ S11\n",
      " |   |_____|\n",
      " |         |         __________________________________ S17\n",
      " |         |________|\n",
      " |                  | S4\n",
      " |\n",
      " |               _____________________ S51\n",
      " |        ______|\n",
      " |       |      |    ___ S46\n",
      " |       |      |___|\n",
      " | ______|          |_____________________ S34\n",
      " ||      |\n",
      " ||      |       ____ S56\n",
      " ||      |______|\n",
      " ||             |                   ______________________________ S12\n",
      " ||             |__________________|\n",
      " ||                                | S8\n",
      " ||\n",
      " ||          , S57\n",
      " ||    ______|\n",
      " ||   |      |                      , S45\n",
      " ||   |      |______________________|\n",
      " ||   |                             |________________________________ S40\n",
      " ||___|\n",
      " |    | _______________________________ S41\n",
      " |    ||\n",
      " |    ||          _______________________ S59\n",
      " |    ||      ___|\n",
      " |    ||     |   | S22\n",
      " |     |  ___|\n",
      " |     | |   |            ________________________________ S61\n",
      " |     | |   |___________|\n",
      " |     |_|               | S21\n",
      " |       |\n",
      " |       |           ___________________________________ S58\n",
      " |       |__________|\n",
      " |                  | S2\n",
      " |\n",
      " |                                 _______________________________ S63\n",
      " |          ______________________|\n",
      " |  _______|                      | S44\n",
      " | |       |\n",
      " |_|       | S36\n",
      "   |\n",
      "   |   ________________________ S31\n",
      "   |__|\n",
      "      |   _ S64\n",
      "      |__|\n",
      "         |          ______________________ S35\n",
      "         |_________|\n",
      "                   |          , S43\n",
      "                   |__________|\n",
      "                              |_______________________________ S15\n",
      "\n"
     ]
    }
   ],
   "source": [
    "Phylo.draw_ascii(tree)"
   ]
  },
  {
   "cell_type": "code",
   "execution_count": 29,
   "id": "entertaining-sweden",
   "metadata": {},
   "outputs": [
    {
     "data": {
      "text/plain": [
       "['BranchColor',\n",
       " 'Clade',\n",
       " 'Tree',\n",
       " 'TreeElement',\n",
       " 'TreeMixin',\n",
       " '__builtins__',\n",
       " '__cached__',\n",
       " '__doc__',\n",
       " '__file__',\n",
       " '__loader__',\n",
       " '__name__',\n",
       " '__package__',\n",
       " '__spec__',\n",
       " '_attribute_matcher',\n",
       " '_class_matcher',\n",
       " '_combine_args',\n",
       " '_combine_matchers',\n",
       " '_function_matcher',\n",
       " '_identity_matcher',\n",
       " '_level_traverse',\n",
       " '_object_matcher',\n",
       " '_postorder_traverse',\n",
       " '_preorder_traverse',\n",
       " '_sorted_attrs',\n",
       " '_string_matcher',\n",
       " 'collections',\n",
       " 'copy',\n",
       " 'itertools',\n",
       " 'random',\n",
       " 're']"
      ]
     },
     "execution_count": 29,
     "metadata": {},
     "output_type": "execute_result"
    }
   ],
   "source": [
    "dir(Phylo.BaseTree)"
   ]
  },
  {
   "cell_type": "code",
   "execution_count": null,
   "id": "dental-carrier",
   "metadata": {},
   "outputs": [],
   "source": [
    "Phylo.write(tree, \"example-both.newick\", \"newick\")"
   ]
  },
  {
   "cell_type": "code",
   "execution_count": 24,
   "id": "architectural-sharing",
   "metadata": {},
   "outputs": [],
   "source": [
    "nw = \"((S12:0.49523,(S19:0.49045,(S25:0.48091,(S30:0.46181,(S39:0.42362,(S40:0.34724,(S15:0.29007,((S17:0.17813,((S61:0.04545,S50:0.04545)Inner22:0.08947,S6:0.13492)Inner57:0.04320)Inner60:0.04157,(S16:0.21306,((S58:0.11458,(S62:0.05000,S9:0.05000)Inner34:0.06458)Inner54:0.06927,(((S60:0.04545,S45:0.04545)Inner23:0.10294,((S48:0.04545,S38:0.04545)Inner25:0.05722,S29:0.10268)Inner50:0.04571)Inner58:0.07678,((S63:0.05000,S13:0.05000)Inner33:0.10277,((S53:0.11280,((S47:0.04545,S27:0.04545)Inner26:0.04255,(S65:0.05625,(S32:0.04545,S21:0.04545)Inner28:0.01080)Inner38:0.03176)Inner46:0.05655)Inner52:0.01774,(((S55:0.05000,S8:0.05000)Inner35:0.04392,(S41:0.06059,(S22:0.03835,(S59:0.02500,(S66:0.00000,S2:0.00000)Inner7:0.02500)Inner12:0.01335)Inner17:0.02224)Inner40:0.03333)Inner47:0.06392,((((S49:0.04545,S44:0.04545)Inner24:0.04028,(S64:0.04545,S34:0.04545)Inner21:0.04028)Inner45:0.05545,(S54:0.05000,S7:0.05000)Inner36:0.05090)Inner49:0.06382,((S10:0.07769,(((S28:0.04460,(S51:0.04375,(S46:0.02639,((S71:0.00000,S36:0.00000)Inner2:0.01250,(S69:0.00000,S23:0.00000)Inner4:0.01250)Inner9:0.02639)Inner14:0.01736)Inner19:0.00085)Inner20:0.01599,(S57:0.04356,(S42:0.02500,(S68:0.00000,S5:0.00000)Inner5:0.02500)Inner13:0.01856)Inner18:0.01703)Inner39:0.02236,(S20:0.04545,S3:0.04545)Inner30:0.02151)Inner42:0.03224)Inner43:0.02585,(((S31:0.04545,S14:0.04545)Inner29:0.03329,(S56:0.05417,(S52:0.03312,(S43:0.02273,(S67:0.00000,S4:0.00000)Inner6:0.02273)Inner10:0.01039)Inner15:0.02105)Inner37:0.02458)Inner44:0.04411,(((S35:0.04545,S26:0.04545)Inner27:0.00288,(S24:0.03819,(((S72:0.00000,S37:0.00000)Inner1:0.01250,(S70:0.00000,S33:0.00000)Inner3:0.01250)Inner8:0.02386,S18:0.02386)Inner11:0.01433)Inner16:0.01014)Inner32:0.01584,(S11:0.04545,S1:0.04545)Inner31:0.01584)Inner41:0.05282)Inner48:0.04938)Inner51:0.03613)Inner53:0.04682)Inner55:0.05285)Inner56:0.03998)Inner59:0.06666)Inner61:0.07105)Inner62:0.09848)Inner63:0.00664)Inner64:0.07701)Inner65:0.05717)Inner66:0.07638)Inner67:0.03819)Inner68:0.01909)Inner69:0.00955)Inner70:0.00477)Inner71:0.00000);\""
   ]
  },
  {
   "cell_type": "code",
   "execution_count": 25,
   "id": "after-worcester",
   "metadata": {},
   "outputs": [
    {
     "ename": "NewickError",
     "evalue": "Unexpected newick format 'Inner22:0.08947' \nYou may want to check other newick loading flags like 'format' or 'quoted_node_names'.",
     "output_type": "error",
     "traceback": [
      "\u001b[0;31m---------------------------------------------------------------------------\u001b[0m",
      "\u001b[0;31mNewickError\u001b[0m                               Traceback (most recent call last)",
      "\u001b[0;32m<ipython-input-25-993cb038dbd6>\u001b[0m in \u001b[0;36m<module>\u001b[0;34m\u001b[0m\n\u001b[1;32m      1\u001b[0m \u001b[0;32mfrom\u001b[0m \u001b[0mete3\u001b[0m \u001b[0;32mimport\u001b[0m \u001b[0mTree\u001b[0m\u001b[0;34m,\u001b[0m \u001b[0mTreeStyle\u001b[0m\u001b[0;34m\u001b[0m\u001b[0;34m\u001b[0m\u001b[0m\n\u001b[1;32m      2\u001b[0m \u001b[0;34m\u001b[0m\u001b[0m\n\u001b[0;32m----> 3\u001b[0;31m \u001b[0mt\u001b[0m \u001b[0;34m=\u001b[0m \u001b[0mTree\u001b[0m\u001b[0;34m(\u001b[0m\u001b[0mnw\u001b[0m\u001b[0;34m)\u001b[0m\u001b[0;34m\u001b[0m\u001b[0;34m\u001b[0m\u001b[0m\n\u001b[0m\u001b[1;32m      4\u001b[0m \u001b[0;31m#circular_style = TreeStyle()\u001b[0m\u001b[0;34m\u001b[0m\u001b[0;34m\u001b[0m\u001b[0;34m\u001b[0m\u001b[0m\n\u001b[1;32m      5\u001b[0m \u001b[0;31m#circular_style.mode = \"c\" # draw tree in circular mode\u001b[0m\u001b[0;34m\u001b[0m\u001b[0;34m\u001b[0m\u001b[0;34m\u001b[0m\u001b[0m\n",
      "\u001b[0;32m~/anaconda3/envs/ntaxon/lib/python3.9/site-packages/ete3/coretype/tree.py\u001b[0m in \u001b[0;36m__init__\u001b[0;34m(self, newick, format, dist, support, name, quoted_node_names)\u001b[0m\n\u001b[1;32m    210\u001b[0m         \u001b[0;32mif\u001b[0m \u001b[0mnewick\u001b[0m \u001b[0;32mis\u001b[0m \u001b[0;32mnot\u001b[0m \u001b[0;32mNone\u001b[0m\u001b[0;34m:\u001b[0m\u001b[0;34m\u001b[0m\u001b[0;34m\u001b[0m\u001b[0m\n\u001b[1;32m    211\u001b[0m             \u001b[0mself\u001b[0m\u001b[0;34m.\u001b[0m\u001b[0m_dist\u001b[0m \u001b[0;34m=\u001b[0m \u001b[0;36m0.0\u001b[0m\u001b[0;34m\u001b[0m\u001b[0;34m\u001b[0m\u001b[0m\n\u001b[0;32m--> 212\u001b[0;31m             read_newick(newick, root_node = self, format=format,\n\u001b[0m\u001b[1;32m    213\u001b[0m                         quoted_names=quoted_node_names)\n\u001b[1;32m    214\u001b[0m \u001b[0;34m\u001b[0m\u001b[0m\n",
      "\u001b[0;32m~/anaconda3/envs/ntaxon/lib/python3.9/site-packages/ete3/parser/newick.py\u001b[0m in \u001b[0;36mread_newick\u001b[0;34m(newick, root_node, format, quoted_names)\u001b[0m\n\u001b[1;32m    264\u001b[0m             \u001b[0;32mraise\u001b[0m \u001b[0mNewickError\u001b[0m\u001b[0;34m(\u001b[0m\u001b[0;34m'Unexisting tree file or Malformed newick tree structure.'\u001b[0m\u001b[0;34m)\u001b[0m\u001b[0;34m\u001b[0m\u001b[0;34m\u001b[0m\u001b[0m\n\u001b[1;32m    265\u001b[0m         \u001b[0;32melse\u001b[0m\u001b[0;34m:\u001b[0m\u001b[0;34m\u001b[0m\u001b[0;34m\u001b[0m\u001b[0m\n\u001b[0;32m--> 266\u001b[0;31m             \u001b[0;32mreturn\u001b[0m \u001b[0m_read_newick_from_string\u001b[0m\u001b[0;34m(\u001b[0m\u001b[0mnw\u001b[0m\u001b[0;34m,\u001b[0m \u001b[0mroot_node\u001b[0m\u001b[0;34m,\u001b[0m \u001b[0mmatcher\u001b[0m\u001b[0;34m,\u001b[0m \u001b[0mformat\u001b[0m\u001b[0;34m,\u001b[0m \u001b[0mquoted_names\u001b[0m\u001b[0;34m)\u001b[0m\u001b[0;34m\u001b[0m\u001b[0;34m\u001b[0m\u001b[0m\n\u001b[0m\u001b[1;32m    267\u001b[0m \u001b[0;34m\u001b[0m\u001b[0m\n\u001b[1;32m    268\u001b[0m     \u001b[0;32melse\u001b[0m\u001b[0;34m:\u001b[0m\u001b[0;34m\u001b[0m\u001b[0;34m\u001b[0m\u001b[0m\n",
      "\u001b[0;32m~/anaconda3/envs/ntaxon/lib/python3.9/site-packages/ete3/parser/newick.py\u001b[0m in \u001b[0;36m_read_newick_from_string\u001b[0;34m(nw, root_node, matcher, formatcode, quoted_names)\u001b[0m\n\u001b[1;32m    339\u001b[0m                     \u001b[0mclosing_internal\u001b[0m \u001b[0;34m=\u001b[0m  \u001b[0mclosing_internal\u001b[0m\u001b[0;34m.\u001b[0m\u001b[0mrstrip\u001b[0m\u001b[0;34m(\u001b[0m\u001b[0;34m\";\"\u001b[0m\u001b[0;34m)\u001b[0m\u001b[0;34m\u001b[0m\u001b[0;34m\u001b[0m\u001b[0m\n\u001b[1;32m    340\u001b[0m                     \u001b[0;31m# read internal node data and go up one level\u001b[0m\u001b[0;34m\u001b[0m\u001b[0;34m\u001b[0m\u001b[0;34m\u001b[0m\u001b[0m\n\u001b[0;32m--> 341\u001b[0;31m                     \u001b[0m_read_node_data\u001b[0m\u001b[0;34m(\u001b[0m\u001b[0mclosing_internal\u001b[0m\u001b[0;34m,\u001b[0m \u001b[0mcurrent_parent\u001b[0m\u001b[0;34m,\u001b[0m \u001b[0;34m\"internal\"\u001b[0m\u001b[0;34m,\u001b[0m \u001b[0mmatcher\u001b[0m\u001b[0;34m,\u001b[0m \u001b[0mformatcode\u001b[0m\u001b[0;34m)\u001b[0m\u001b[0;34m\u001b[0m\u001b[0;34m\u001b[0m\u001b[0m\n\u001b[0m\u001b[1;32m    342\u001b[0m                     \u001b[0mcurrent_parent\u001b[0m \u001b[0;34m=\u001b[0m \u001b[0mcurrent_parent\u001b[0m\u001b[0;34m.\u001b[0m\u001b[0mup\u001b[0m\u001b[0;34m\u001b[0m\u001b[0;34m\u001b[0m\u001b[0m\n\u001b[1;32m    343\u001b[0m \u001b[0;34m\u001b[0m\u001b[0m\n",
      "\u001b[0;32m~/anaconda3/envs/ntaxon/lib/python3.9/site-packages/ete3/parser/newick.py\u001b[0m in \u001b[0;36m_read_node_data\u001b[0;34m(subnw, current_node, node_type, matcher, formatcode)\u001b[0m\n\u001b[1;32m    443\u001b[0m             \u001b[0m_parse_extra_features\u001b[0m\u001b[0;34m(\u001b[0m\u001b[0mnode\u001b[0m\u001b[0;34m,\u001b[0m \u001b[0mdata\u001b[0m\u001b[0;34m[\u001b[0m\u001b[0;36m2\u001b[0m\u001b[0;34m]\u001b[0m\u001b[0;34m)\u001b[0m\u001b[0;34m\u001b[0m\u001b[0;34m\u001b[0m\u001b[0m\n\u001b[1;32m    444\u001b[0m     \u001b[0;32melse\u001b[0m\u001b[0;34m:\u001b[0m\u001b[0;34m\u001b[0m\u001b[0;34m\u001b[0m\u001b[0m\n\u001b[0;32m--> 445\u001b[0;31m         \u001b[0;32mraise\u001b[0m \u001b[0mNewickError\u001b[0m\u001b[0;34m(\u001b[0m\u001b[0;34m\"Unexpected newick format '%s' \"\u001b[0m \u001b[0;34m%\u001b[0m\u001b[0msubnw\u001b[0m\u001b[0;34m[\u001b[0m\u001b[0;36m0\u001b[0m\u001b[0;34m:\u001b[0m\u001b[0;36m50\u001b[0m\u001b[0;34m]\u001b[0m\u001b[0;34m)\u001b[0m\u001b[0;34m\u001b[0m\u001b[0;34m\u001b[0m\u001b[0m\n\u001b[0m\u001b[1;32m    446\u001b[0m     \u001b[0;32mreturn\u001b[0m\u001b[0;34m\u001b[0m\u001b[0;34m\u001b[0m\u001b[0m\n\u001b[1;32m    447\u001b[0m \u001b[0;34m\u001b[0m\u001b[0m\n",
      "\u001b[0;31mNewickError\u001b[0m: Unexpected newick format 'Inner22:0.08947' \nYou may want to check other newick loading flags like 'format' or 'quoted_node_names'."
     ]
    }
   ],
   "source": [
    "from ete3 import Tree, TreeStyle\n",
    "\n",
    "t = Tree(nw)\n",
    "#circular_style = TreeStyle()\n",
    "#circular_style.mode = \"c\" # draw tree in circular mode\n",
    "#circular_style.scale = 20\n",
    "\n",
    "ts = TreeStyle()\n",
    "ts.show_leaf_name = True\n",
    "ts.show_branch_length = True\n",
    "ts.show_branch_support = True\n",
    "\n",
    "t.show(tree_style=ts)"
   ]
  }
 ],
 "metadata": {
  "kernelspec": {
   "display_name": "Python 3",
   "language": "python",
   "name": "python3"
  },
  "language_info": {
   "codemirror_mode": {
    "name": "ipython",
    "version": 3
   },
   "file_extension": ".py",
   "mimetype": "text/x-python",
   "name": "python",
   "nbconvert_exporter": "python",
   "pygments_lexer": "ipython3",
   "version": "3.9.1"
  }
 },
 "nbformat": 4,
 "nbformat_minor": 5
}
