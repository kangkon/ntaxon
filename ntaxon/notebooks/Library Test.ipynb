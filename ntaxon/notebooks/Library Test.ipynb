{
 "cells": [
  {
   "cell_type": "code",
   "execution_count": 1,
   "id": "opponent-denial",
   "metadata": {},
   "outputs": [],
   "source": [
    "import pandas as pd\n",
    "from Bio import Restriction\n",
    "from ntaxon.fingerprinting.rflp import RestrictionDigestion\n",
    "accessions = pd.read_csv('../shabiha_ac_seq.csv')\n",
    "mspI_digestion = RestrictionDigestion(\n",
    "    accessions=accessions, \n",
    "    enzyme=Restriction.MspI, \n",
    "    label_col=\"isolate\",\n",
    "    sequence_col=\"sequence\"\n",
    ")\n",
    "matrix = mspI_digestion.digestion_profile\n",
    "matrix_bin = matrix.get_binary_matrix()"
   ]
  },
  {
   "cell_type": "code",
   "execution_count": 7,
   "id": "intermediate-funds",
   "metadata": {},
   "outputs": [
    {
     "data": {
      "text/plain": [
       "haplotype\n",
       "799_1    0.002331\n",
       "757_1    0.002331\n",
       "663_1    0.002331\n",
       "660_1    0.011655\n",
       "658_1    0.002331\n",
       "           ...   \n",
       "57_1     0.009324\n",
       "54_1     0.002331\n",
       "53_1     0.004662\n",
       "52_1     0.013986\n",
       "51_1     0.004662\n",
       "Length: 133, dtype: float64"
      ]
     },
     "execution_count": 7,
     "metadata": {},
     "output_type": "execute_result"
    }
   ],
   "source": [
    "matrix.band_frequency()"
   ]
  },
  {
   "cell_type": "code",
   "execution_count": null,
   "id": "micro-thunder",
   "metadata": {},
   "outputs": [],
   "source": [
    "hae3_digestion = RestrictionDigestion(\n",
    "    accessions=accessions, \n",
    "    enzyme=Restriction.HaeIII, \n",
    "    label_col=\"isolate\",\n",
    "    sequence_col=\"sequence\"\n",
    ")\n",
    "matrix_b = hae3_digestion.digestion_profile"
   ]
  },
  {
   "cell_type": "code",
   "execution_count": null,
   "id": "typical-currency",
   "metadata": {},
   "outputs": [],
   "source": [
    "new_mat = matrix.join(matrix_b)"
   ]
  },
  {
   "cell_type": "code",
   "execution_count": null,
   "id": "indie-broad",
   "metadata": {},
   "outputs": [],
   "source": [
    "new_mat.get_binary_matrix()"
   ]
  },
  {
   "cell_type": "code",
   "execution_count": null,
   "id": "blind-controversy",
   "metadata": {},
   "outputs": [],
   "source": [
    "matrix.total_bands(unique=False)"
   ]
  },
  {
   "cell_type": "code",
   "execution_count": null,
   "id": "received-grain",
   "metadata": {},
   "outputs": [],
   "source": [
    "matrix.percent_polymorphism(samples=[\"K72\", \"K73\", \"K74\", \"K75\"])"
   ]
  },
  {
   "cell_type": "code",
   "execution_count": null,
   "id": "metric-secret",
   "metadata": {},
   "outputs": [],
   "source": [
    "mspI_digestion.digestion_profile.sizeof(index_label = \"97_2\")"
   ]
  },
  {
   "cell_type": "code",
   "execution_count": null,
   "id": "committed-advertising",
   "metadata": {},
   "outputs": [],
   "source": [
    "mspI_digestion.plot_electrophoretic_diagram()"
   ]
  },
  {
   "cell_type": "code",
   "execution_count": null,
   "id": "sound-wagon",
   "metadata": {},
   "outputs": [],
   "source": [
    "mspI_digestion.plot_histogram()"
   ]
  }
 ],
 "metadata": {
  "kernelspec": {
   "display_name": "Python 3",
   "language": "python",
   "name": "python3"
  },
  "language_info": {
   "codemirror_mode": {
    "name": "ipython",
    "version": 3
   },
   "file_extension": ".py",
   "mimetype": "text/x-python",
   "name": "python",
   "nbconvert_exporter": "python",
   "pygments_lexer": "ipython3",
   "version": "3.9.1"
  }
 },
 "nbformat": 4,
 "nbformat_minor": 5
}
