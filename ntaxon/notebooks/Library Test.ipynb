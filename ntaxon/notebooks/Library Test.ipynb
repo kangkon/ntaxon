{
 "cells": [
  {
   "cell_type": "code",
   "execution_count": 1,
   "id": "opponent-denial",
   "metadata": {},
   "outputs": [],
   "source": [
    "import pandas as pd\n",
    "from Bio import Restriction\n",
    "from ntaxon.fingerprinting.rflp import RestrictionDigestion\n",
    "accessions = pd.read_csv('../shabiha_ac_seq.csv')\n",
    "mspI_digestion = RestrictionDigestion(\n",
    "    accessions=accessions, \n",
    "    enzyme=Restriction.MspI, \n",
    "    label_col=\"isolate\",\n",
    "    sequence_col=\"sequence\"\n",
    ")\n",
    "matrix = mspI_digestion.digestion_profile()\n",
    "matrix_bin = matrix.get_binary_matrix()"
   ]
  },
  {
   "cell_type": "code",
   "execution_count": 2,
   "id": "complex-internship",
   "metadata": {},
   "outputs": [
    {
     "data": {
      "text/plain": [
       "<ntaxon.fingerprinting.rflp.SeqDigestionTable at 0x7fb0250f5f40>"
      ]
     },
     "execution_count": 2,
     "metadata": {},
     "output_type": "execute_result"
    }
   ],
   "source": [
    "mspI_digestion.digestion_table()"
   ]
  },
  {
   "cell_type": "code",
   "execution_count": 3,
   "id": "loving-horizon",
   "metadata": {},
   "outputs": [],
   "source": [
    "from ntaxon.phylogeny.cluster import optimal_clustering_params"
   ]
  },
  {
   "cell_type": "code",
   "execution_count": 4,
   "id": "thorough-optics",
   "metadata": {},
   "outputs": [
    {
     "name": "stderr",
     "output_type": "stream",
     "text": [
      "/home/iasst/anaconda3/envs/ntaxon/lib/python3.9/site-packages/scipy/cluster/hierarchy.py:1703: RuntimeWarning: invalid value encountered in double_scalars\n",
      "  c = numerator.sum() / np.sqrt((denomA.sum() * denomB.sum()))\n"
     ]
    },
    {
     "name": "stdout",
     "output_type": "stream",
     "text": [
      "          Distance   Linkage Linkage Validity Inconsistency Monotony  \\\n",
      "0          hamming   average             True          True     True   \n",
      "2   rogerstanimoto   average             True          True     True   \n",
      "3    sokalmichener   average             True          True     True   \n",
      "9          hamming    single             True          True     True   \n",
      "10   sokalmichener    single             True          True     True   \n",
      "11  rogerstanimoto    single             True          True     True   \n",
      "12         hamming      ward             True          True     True   \n",
      "13         hamming  complete             True          True     True   \n",
      "14  rogerstanimoto      ward             True          True     True   \n",
      "15   sokalmichener      ward             True          True     True   \n",
      "16   sokalmichener  complete             True          True     True   \n",
      "17  rogerstanimoto  complete             True          True     True   \n",
      "18      russellrao   average             True          True     True   \n",
      "19       kulsinski   average             True          True     True   \n",
      "20      russellrao      ward             True          True     True   \n",
      "21            dice   average             True          True     True   \n",
      "22         jaccard   average             True          True     True   \n",
      "24     sokalsneath   average             True          True     True   \n",
      "26       kulsinski  complete             True          True     True   \n",
      "27      russellrao  centroid             True          True     True   \n",
      "29            dice      ward             True          True     True   \n",
      "30       kulsinski      ward             True          True     True   \n",
      "31            dice  complete             True          True     True   \n",
      "32            dice    median             True          True     True   \n",
      "33     sokalsneath      ward             True          True     True   \n",
      "34         jaccard      ward             True          True     True   \n",
      "35      russellrao  complete             True          True     True   \n",
      "36     sokalsneath  centroid             True          True     True   \n",
      "37         jaccard    median             True          True     True   \n",
      "38         jaccard  complete             True          True     True   \n",
      "40       kulsinski    median             True          True     True   \n",
      "41     sokalsneath    median             True          True     True   \n",
      "42     sokalsneath  complete             True          True     True   \n",
      "\n",
      "    Copenetic Correlation  \n",
      "0                0.583631  \n",
      "2                0.571712  \n",
      "3                0.571712  \n",
      "9                0.512495  \n",
      "10               0.495311  \n",
      "11               0.495311  \n",
      "12               0.251135  \n",
      "13               0.249818  \n",
      "14               0.236305  \n",
      "15               0.236305  \n",
      "16               0.219477  \n",
      "17               0.219477  \n",
      "18               0.205866  \n",
      "19               0.200415  \n",
      "20               0.165437  \n",
      "21               0.163275  \n",
      "22               0.134521  \n",
      "24               0.124603  \n",
      "26               0.112082  \n",
      "27               0.112049  \n",
      "29               0.108156  \n",
      "30               0.107169  \n",
      "31               0.106914  \n",
      "32               0.103739  \n",
      "33               0.100741  \n",
      "34               0.100290  \n",
      "35               0.096492  \n",
      "36               0.096221  \n",
      "37               0.093862  \n",
      "38               0.092642  \n",
      "40               0.085302  \n",
      "41               0.083429  \n",
      "42               0.080691  \n"
     ]
    },
    {
     "ename": "KeyError",
     "evalue": "'key of type tuple not found and not a MultiIndex'",
     "output_type": "error",
     "traceback": [
      "\u001b[0;31m---------------------------------------------------------------------------\u001b[0m",
      "\u001b[0;31mKeyError\u001b[0m                                  Traceback (most recent call last)",
      "\u001b[0;32m<ipython-input-4-e31fe88d9a63>\u001b[0m in \u001b[0;36m<module>\u001b[0;34m\u001b[0m\n\u001b[0;32m----> 1\u001b[0;31m \u001b[0moptimal_clustering_params\u001b[0m\u001b[0;34m(\u001b[0m\u001b[0mmatrix_bin\u001b[0m\u001b[0;34m)\u001b[0m\u001b[0;34m\u001b[0m\u001b[0;34m\u001b[0m\u001b[0m\n\u001b[0m",
      "\u001b[0;32m~/projects/ntaxon/ntaxon/phylogeny/cluster.py\u001b[0m in \u001b[0;36moptimal_clustering_params\u001b[0;34m(data, monotonic)\u001b[0m\n\u001b[1;32m     49\u001b[0m     \u001b[0mres\u001b[0m \u001b[0;34m=\u001b[0m \u001b[0mres\u001b[0m\u001b[0;34m[\u001b[0m\u001b[0mres\u001b[0m\u001b[0;34m[\u001b[0m\u001b[0;34m'Monotony'\u001b[0m\u001b[0;34m]\u001b[0m \u001b[0;34m==\u001b[0m \u001b[0mmonotonic\u001b[0m\u001b[0;34m]\u001b[0m\u001b[0;34m\u001b[0m\u001b[0;34m\u001b[0m\u001b[0m\n\u001b[1;32m     50\u001b[0m     \u001b[0mprint\u001b[0m\u001b[0;34m(\u001b[0m\u001b[0mres\u001b[0m\u001b[0;34m)\u001b[0m\u001b[0;34m\u001b[0m\u001b[0;34m\u001b[0m\u001b[0m\n\u001b[0;32m---> 51\u001b[0;31m     \u001b[0mprint\u001b[0m\u001b[0;34m(\u001b[0m\u001b[0mres\u001b[0m\u001b[0;34m.\u001b[0m\u001b[0miloc\u001b[0m\u001b[0;34m[\u001b[0m\u001b[0;36m1\u001b[0m\u001b[0;34m]\u001b[0m\u001b[0;34m[\u001b[0m\u001b[0;34m'Distance'\u001b[0m\u001b[0;34m,\u001b[0m \u001b[0;34m'Linkage'\u001b[0m\u001b[0;34m]\u001b[0m\u001b[0;34m)\u001b[0m\u001b[0;34m\u001b[0m\u001b[0;34m\u001b[0m\u001b[0m\n\u001b[0m\u001b[1;32m     52\u001b[0m     \u001b[0;31m#return tuple(res.iloc[1]['Distance', 'Linkage'].to_list())\u001b[0m\u001b[0;34m\u001b[0m\u001b[0;34m\u001b[0m\u001b[0;34m\u001b[0m\u001b[0m\n",
      "\u001b[0;32m~/anaconda3/envs/ntaxon/lib/python3.9/site-packages/pandas/core/series.py\u001b[0m in \u001b[0;36m__getitem__\u001b[0;34m(self, key)\u001b[0m\n\u001b[1;32m    846\u001b[0m             \u001b[0;32mreturn\u001b[0m \u001b[0mself\u001b[0m\u001b[0;34m.\u001b[0m\u001b[0m_get_values\u001b[0m\u001b[0;34m(\u001b[0m\u001b[0mkey\u001b[0m\u001b[0;34m)\u001b[0m\u001b[0;34m\u001b[0m\u001b[0;34m\u001b[0m\u001b[0m\n\u001b[1;32m    847\u001b[0m \u001b[0;34m\u001b[0m\u001b[0m\n\u001b[0;32m--> 848\u001b[0;31m         \u001b[0;32mreturn\u001b[0m \u001b[0mself\u001b[0m\u001b[0;34m.\u001b[0m\u001b[0m_get_with\u001b[0m\u001b[0;34m(\u001b[0m\u001b[0mkey\u001b[0m\u001b[0;34m)\u001b[0m\u001b[0;34m\u001b[0m\u001b[0;34m\u001b[0m\u001b[0m\n\u001b[0m\u001b[1;32m    849\u001b[0m \u001b[0;34m\u001b[0m\u001b[0m\n\u001b[1;32m    850\u001b[0m     \u001b[0;32mdef\u001b[0m \u001b[0m_get_with\u001b[0m\u001b[0;34m(\u001b[0m\u001b[0mself\u001b[0m\u001b[0;34m,\u001b[0m \u001b[0mkey\u001b[0m\u001b[0;34m)\u001b[0m\u001b[0;34m:\u001b[0m\u001b[0;34m\u001b[0m\u001b[0;34m\u001b[0m\u001b[0m\n",
      "\u001b[0;32m~/anaconda3/envs/ntaxon/lib/python3.9/site-packages/pandas/core/series.py\u001b[0m in \u001b[0;36m_get_with\u001b[0;34m(self, key)\u001b[0m\n\u001b[1;32m    861\u001b[0m             )\n\u001b[1;32m    862\u001b[0m         \u001b[0;32melif\u001b[0m \u001b[0misinstance\u001b[0m\u001b[0;34m(\u001b[0m\u001b[0mkey\u001b[0m\u001b[0;34m,\u001b[0m \u001b[0mtuple\u001b[0m\u001b[0;34m)\u001b[0m\u001b[0;34m:\u001b[0m\u001b[0;34m\u001b[0m\u001b[0;34m\u001b[0m\u001b[0m\n\u001b[0;32m--> 863\u001b[0;31m             \u001b[0;32mreturn\u001b[0m \u001b[0mself\u001b[0m\u001b[0;34m.\u001b[0m\u001b[0m_get_values_tuple\u001b[0m\u001b[0;34m(\u001b[0m\u001b[0mkey\u001b[0m\u001b[0;34m)\u001b[0m\u001b[0;34m\u001b[0m\u001b[0;34m\u001b[0m\u001b[0m\n\u001b[0m\u001b[1;32m    864\u001b[0m \u001b[0;34m\u001b[0m\u001b[0m\n\u001b[1;32m    865\u001b[0m         \u001b[0;32melif\u001b[0m \u001b[0;32mnot\u001b[0m \u001b[0mis_list_like\u001b[0m\u001b[0;34m(\u001b[0m\u001b[0mkey\u001b[0m\u001b[0;34m)\u001b[0m\u001b[0;34m:\u001b[0m\u001b[0;34m\u001b[0m\u001b[0;34m\u001b[0m\u001b[0m\n",
      "\u001b[0;32m~/anaconda3/envs/ntaxon/lib/python3.9/site-packages/pandas/core/series.py\u001b[0m in \u001b[0;36m_get_values_tuple\u001b[0;34m(self, key)\u001b[0m\n\u001b[1;32m    896\u001b[0m \u001b[0;34m\u001b[0m\u001b[0m\n\u001b[1;32m    897\u001b[0m         \u001b[0;32mif\u001b[0m \u001b[0;32mnot\u001b[0m \u001b[0misinstance\u001b[0m\u001b[0;34m(\u001b[0m\u001b[0mself\u001b[0m\u001b[0;34m.\u001b[0m\u001b[0mindex\u001b[0m\u001b[0;34m,\u001b[0m \u001b[0mMultiIndex\u001b[0m\u001b[0;34m)\u001b[0m\u001b[0;34m:\u001b[0m\u001b[0;34m\u001b[0m\u001b[0;34m\u001b[0m\u001b[0m\n\u001b[0;32m--> 898\u001b[0;31m             \u001b[0;32mraise\u001b[0m \u001b[0mKeyError\u001b[0m\u001b[0;34m(\u001b[0m\u001b[0;34m\"key of type tuple not found and not a MultiIndex\"\u001b[0m\u001b[0;34m)\u001b[0m\u001b[0;34m\u001b[0m\u001b[0;34m\u001b[0m\u001b[0m\n\u001b[0m\u001b[1;32m    899\u001b[0m \u001b[0;34m\u001b[0m\u001b[0m\n\u001b[1;32m    900\u001b[0m         \u001b[0;31m# If key is contained, would have returned by now\u001b[0m\u001b[0;34m\u001b[0m\u001b[0;34m\u001b[0m\u001b[0;34m\u001b[0m\u001b[0m\n",
      "\u001b[0;31mKeyError\u001b[0m: 'key of type tuple not found and not a MultiIndex'"
     ]
    }
   ],
   "source": [
    "optimal_clustering_params(matrix_bin)"
   ]
  },
  {
   "cell_type": "code",
   "execution_count": null,
   "id": "industrial-profile",
   "metadata": {},
   "outputs": [],
   "source": []
  }
 ],
 "metadata": {
  "kernelspec": {
   "display_name": "Python 3",
   "language": "python",
   "name": "python3"
  },
  "language_info": {
   "codemirror_mode": {
    "name": "ipython",
    "version": 3
   },
   "file_extension": ".py",
   "mimetype": "text/x-python",
   "name": "python",
   "nbconvert_exporter": "python",
   "pygments_lexer": "ipython3",
   "version": "3.9.1"
  }
 },
 "nbformat": 4,
 "nbformat_minor": 5
}
