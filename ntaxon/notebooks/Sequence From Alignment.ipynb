{
 "cells": [
  {
   "cell_type": "code",
   "execution_count": 1,
   "id": "dated-helping",
   "metadata": {},
   "outputs": [],
   "source": [
    "import pandas as pd\n",
    "from Bio import SeqIO\n",
    "from Bio.Seq import Seq\n",
    "from Bio.SeqRecord import SeqRecord\n",
    "from Bio import AlignIO"
   ]
  },
  {
   "cell_type": "code",
   "execution_count": 7,
   "id": "analyzed-spelling",
   "metadata": {},
   "outputs": [
    {
     "name": "stdout",
     "output_type": "stream",
     "text": [
      "Alignment with 72 rows and 1335 columns\n",
      "GGTGGCGAGTGGCGGACGGGTGAGGAATACATCGGAATCTACTT...ACC MN493874.1\n",
      "CGGAGTTAGTGGCGGACGGGTGAGTAACACGTGGGAACGTGCCT...ACC MN493875.1\n",
      "GGTGGCGAGTGGCGGACGGGTGAGGAATACATCGGAATCTACTC...ACC MN493876.1\n",
      "CAAGGGGAGCGGCAGACGGGTGAGTAACGCGTGGGAACGTACCT...ACC MN493877.1\n",
      "CAAGGGGAGCGGCAGACGGGTGAGTAACGCGTGGGAACGTACCT...ACC MN493878.1\n",
      "CGACGTTAGCGGCGGACGGGTGAGTAACACGTGGCAACCTACCT...ACC MN493879.1\n",
      "GGTGGCGAGTGGCGGACGGGGGAGGAATACATCGGAATCTACCT...ACC MN493880.1\n",
      "GGCGGCGAGTGGCGGACGGGTGAGTAATATATCGGAACGTGCCC...ACC MN493881.1\n",
      "GGCGGCGAGTGGCGGACGGGTGAGTAATATATCGGAACGTGCCC...ACC MN493882.1\n",
      "TGATGTTAGCGGCGGATGGGTGAGTAACACGTGGCAACCTGCCC...ACC MN493883.1\n",
      "GATGGTTAGCGGCGGACGGGTGAGTAACACGTAGCAACCTGCCC...ACC MN493884.1\n",
      "TGATGTTAGCGGCGGACGGGTGAGTAACACGTGGTAACCTGCCT...ACC MN493885.1\n",
      "GGCGGCGAGTGGCGGACGGGTGAGTAATATATCGGAACGTGCCC...ACC MN493886.1\n",
      "GGCGGCGAGTGGCGGACGGGTGAGTAATATATCGGAACGTGCCC...ACC MN493887.1\n",
      "TGATATTAGCGGCGGACGGGTGAGTAACACGTGGCAACCTGCCC...ACC MN493888.1\n",
      "TGATATTAGCGGCGGACGGGTGAGTAACACGTGGCAACCTGCCC...ACC MN493889.1\n",
      "TTAGGTCAGCGGCGGACGGGTGAGTAACACGTGGTAACCTGCCT...ACC MN493890.1\n",
      "TGAAGTTAGCGGCGGACGGGTGAGTAACACGTGGTAACCTGCCC...ACC MN577364.1\n",
      "...\n",
      "TGATGTTAGCGGCGGACGGGTGAGTAACACGTGGTAACCTGCCT...ACC MN577389.1\n"
     ]
    }
   ],
   "source": [
    "#alignment = AlignIO.read(\"data/alignments/mafft_aln_tr_001_cons_60.phy\", \"phylip\")\n",
    "alignment = AlignIO.read(\"data/alignments/cropped_aln.fasta\", \"fasta\")\n",
    "print(alignment)"
   ]
  },
  {
   "cell_type": "code",
   "execution_count": 8,
   "id": "talented-librarian",
   "metadata": {},
   "outputs": [],
   "source": [
    "sequences_raw = []\n",
    "for record in alignment:\n",
    "    # Ungap sequences in fasta format\n",
    "    sequences_raw.append(SeqRecord(\n",
    "        record.seq.ungap(\"-\"),\n",
    "        record.id,\n",
    "        \"\",\n",
    "        \"\"\n",
    "    ))"
   ]
  },
  {
   "cell_type": "code",
   "execution_count": 9,
   "id": "shared-found",
   "metadata": {},
   "outputs": [
    {
     "data": {
      "text/plain": [
       "72"
      ]
     },
     "execution_count": 9,
     "metadata": {},
     "output_type": "execute_result"
    }
   ],
   "source": [
    "SeqIO.write(sequences_raw, \"data/isolate_sequences_corrected.fasta\", \"fasta\")"
   ]
  },
  {
   "cell_type": "code",
   "execution_count": null,
   "id": "authentic-baghdad",
   "metadata": {},
   "outputs": [],
   "source": []
  }
 ],
 "metadata": {
  "kernelspec": {
   "display_name": "Python 3",
   "language": "python",
   "name": "python3"
  },
  "language_info": {
   "codemirror_mode": {
    "name": "ipython",
    "version": 3
   },
   "file_extension": ".py",
   "mimetype": "text/x-python",
   "name": "python",
   "nbconvert_exporter": "python",
   "pygments_lexer": "ipython3",
   "version": "3.9.1"
  }
 },
 "nbformat": 4,
 "nbformat_minor": 5
}
