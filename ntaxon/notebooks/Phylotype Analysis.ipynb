{
 "cells": [
  {
   "cell_type": "code",
   "execution_count": 1,
   "id": "b9dce971",
   "metadata": {},
   "outputs": [],
   "source": [
    "import pandas as pd\n",
    "from Bio import Restriction, SeqIO\n",
    "from ntaxon.fingerprinting.rflp import RestrictionDigestion\n",
    "import os\n",
    "import pandas as pd"
   ]
  },
  {
   "cell_type": "code",
   "execution_count": 3,
   "id": "5f836e83",
   "metadata": {},
   "outputs": [
    {
     "data": {
      "text/html": [
       "<div>\n",
       "<style scoped>\n",
       "    .dataframe tbody tr th:only-of-type {\n",
       "        vertical-align: middle;\n",
       "    }\n",
       "\n",
       "    .dataframe tbody tr th {\n",
       "        vertical-align: top;\n",
       "    }\n",
       "\n",
       "    .dataframe thead th {\n",
       "        text-align: right;\n",
       "    }\n",
       "</style>\n",
       "<table border=\"1\" class=\"dataframe\">\n",
       "  <thead>\n",
       "    <tr style=\"text-align: right;\">\n",
       "      <th></th>\n",
       "      <th>accession</th>\n",
       "      <th>species</th>\n",
       "      <th>sequence</th>\n",
       "      <th>remark</th>\n",
       "      <th>name</th>\n",
       "    </tr>\n",
       "  </thead>\n",
       "  <tbody>\n",
       "    <tr>\n",
       "      <th>0</th>\n",
       "      <td>MN513225.1</td>\n",
       "      <td>Alcaligenes faecalis</td>\n",
       "      <td>ATTGAACGCTAGCGGGATGCTTTACACATGCAAGTCGAACGGCAGC...</td>\n",
       "      <td>R</td>\n",
       "      <td>R_MN513225.1</td>\n",
       "    </tr>\n",
       "    <tr>\n",
       "      <th>1</th>\n",
       "      <td>JF710959.1</td>\n",
       "      <td>Alcaligenes faecalis</td>\n",
       "      <td>TACACATGCAAGTCGAACGGCAGCACGAGAGAGCTTGCTCTCTTGG...</td>\n",
       "      <td>R</td>\n",
       "      <td>R_JF710959.1</td>\n",
       "    </tr>\n",
       "    <tr>\n",
       "      <th>2</th>\n",
       "      <td>KT988067.1</td>\n",
       "      <td>Alcaligenes faecalis</td>\n",
       "      <td>ATTGAACGCTAGCGGGATGCTTTACACATGCAAGTCGAACGGCAGC...</td>\n",
       "      <td>R</td>\n",
       "      <td>R_KT988067.1</td>\n",
       "    </tr>\n",
       "    <tr>\n",
       "      <th>3</th>\n",
       "      <td>KP224304.1</td>\n",
       "      <td>Alcaligenes faecalis</td>\n",
       "      <td>GAGTTTGATCCTGGCTCAGATTGAACGCTAGCGGGATGCTTTACAC...</td>\n",
       "      <td>R</td>\n",
       "      <td>R_KP224304.1</td>\n",
       "    </tr>\n",
       "    <tr>\n",
       "      <th>4</th>\n",
       "      <td>KF534470.1</td>\n",
       "      <td>Alcaligenes faecalis</td>\n",
       "      <td>GAGTTTGATCCTGGCTCAGATTGAACGCTAGCGGGATGCTTTACAC...</td>\n",
       "      <td>R</td>\n",
       "      <td>R_KF534470.1</td>\n",
       "    </tr>\n",
       "  </tbody>\n",
       "</table>\n",
       "</div>"
      ],
      "text/plain": [
       "    accession               species  \\\n",
       "0  MN513225.1  Alcaligenes faecalis   \n",
       "1  JF710959.1  Alcaligenes faecalis   \n",
       "2  KT988067.1  Alcaligenes faecalis   \n",
       "3  KP224304.1  Alcaligenes faecalis   \n",
       "4  KF534470.1  Alcaligenes faecalis   \n",
       "\n",
       "                                            sequence remark          name  \n",
       "0  ATTGAACGCTAGCGGGATGCTTTACACATGCAAGTCGAACGGCAGC...      R  R_MN513225.1  \n",
       "1  TACACATGCAAGTCGAACGGCAGCACGAGAGAGCTTGCTCTCTTGG...      R  R_JF710959.1  \n",
       "2  ATTGAACGCTAGCGGGATGCTTTACACATGCAAGTCGAACGGCAGC...      R  R_KT988067.1  \n",
       "3  GAGTTTGATCCTGGCTCAGATTGAACGCTAGCGGGATGCTTTACAC...      R  R_KP224304.1  \n",
       "4  GAGTTTGATCCTGGCTCAGATTGAACGCTAGCGGGATGCTTTACAC...      R  R_KF534470.1  "
      ]
     },
     "execution_count": 3,
     "metadata": {},
     "output_type": "execute_result"
    }
   ],
   "source": [
    "combined_seq = pd.read_csv('./data/combined_seq.csv')\n",
    "combined_seq.head()"
   ]
  },
  {
   "cell_type": "code",
   "execution_count": null,
   "id": "9f255244",
   "metadata": {},
   "outputs": [],
   "source": [
    "sample_seq = combined_seq[combined_seq[]]"
   ]
  }
 ],
 "metadata": {
  "kernelspec": {
   "display_name": "Python 3",
   "language": "python",
   "name": "python3"
  },
  "language_info": {
   "codemirror_mode": {
    "name": "ipython",
    "version": 3
   },
   "file_extension": ".py",
   "mimetype": "text/x-python",
   "name": "python",
   "nbconvert_exporter": "python",
   "pygments_lexer": "ipython3",
   "version": "3.9.2"
  }
 },
 "nbformat": 4,
 "nbformat_minor": 5
}
