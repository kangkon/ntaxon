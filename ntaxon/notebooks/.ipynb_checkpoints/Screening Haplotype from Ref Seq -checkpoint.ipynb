{
 "cells": [
  {
   "cell_type": "code",
   "execution_count": 1,
   "id": "bizarre-ethnic",
   "metadata": {},
   "outputs": [],
   "source": [
    "import pandas as pd\n",
    "from Bio import Restriction, SeqIO\n",
    "from ntaxon.fingerprinting.rflp import RestrictionDigestion\n",
    "import os\n",
    "import pandas as pd"
   ]
  },
  {
   "cell_type": "code",
   "execution_count": 2,
   "id": "approved-sixth",
   "metadata": {},
   "outputs": [
    {
     "data": {
      "text/html": [
       "<div>\n",
       "<style scoped>\n",
       "    .dataframe tbody tr th:only-of-type {\n",
       "        vertical-align: middle;\n",
       "    }\n",
       "\n",
       "    .dataframe tbody tr th {\n",
       "        vertical-align: top;\n",
       "    }\n",
       "\n",
       "    .dataframe thead th {\n",
       "        text-align: right;\n",
       "    }\n",
       "</style>\n",
       "<table border=\"1\" class=\"dataframe\">\n",
       "  <thead>\n",
       "    <tr style=\"text-align: right;\">\n",
       "      <th></th>\n",
       "      <th>accession</th>\n",
       "      <th>species</th>\n",
       "      <th>sequence</th>\n",
       "      <th>remark</th>\n",
       "      <th>name</th>\n",
       "    </tr>\n",
       "  </thead>\n",
       "  <tbody>\n",
       "    <tr>\n",
       "      <th>0</th>\n",
       "      <td>MN513225.1</td>\n",
       "      <td>Alcaligenes faecalis</td>\n",
       "      <td>ATTGAACGCTAGCGGGATGCTTTACACATGCAAGTCGAACGGCAGC...</td>\n",
       "      <td>R</td>\n",
       "      <td>R_MN513225.1</td>\n",
       "    </tr>\n",
       "    <tr>\n",
       "      <th>1</th>\n",
       "      <td>JF710959.1</td>\n",
       "      <td>Alcaligenes faecalis</td>\n",
       "      <td>TACACATGCAAGTCGAACGGCAGCACGAGAGAGCTTGCTCTCTTGG...</td>\n",
       "      <td>R</td>\n",
       "      <td>R_JF710959.1</td>\n",
       "    </tr>\n",
       "    <tr>\n",
       "      <th>2</th>\n",
       "      <td>KT988067.1</td>\n",
       "      <td>Alcaligenes faecalis</td>\n",
       "      <td>ATTGAACGCTAGCGGGATGCTTTACACATGCAAGTCGAACGGCAGC...</td>\n",
       "      <td>R</td>\n",
       "      <td>R_KT988067.1</td>\n",
       "    </tr>\n",
       "    <tr>\n",
       "      <th>3</th>\n",
       "      <td>KP224304.1</td>\n",
       "      <td>Alcaligenes faecalis</td>\n",
       "      <td>GAGTTTGATCCTGGCTCAGATTGAACGCTAGCGGGATGCTTTACAC...</td>\n",
       "      <td>R</td>\n",
       "      <td>R_KP224304.1</td>\n",
       "    </tr>\n",
       "    <tr>\n",
       "      <th>4</th>\n",
       "      <td>KF534470.1</td>\n",
       "      <td>Alcaligenes faecalis</td>\n",
       "      <td>GAGTTTGATCCTGGCTCAGATTGAACGCTAGCGGGATGCTTTACAC...</td>\n",
       "      <td>R</td>\n",
       "      <td>R_KF534470.1</td>\n",
       "    </tr>\n",
       "  </tbody>\n",
       "</table>\n",
       "</div>"
      ],
      "text/plain": [
       "    accession               species  \\\n",
       "0  MN513225.1  Alcaligenes faecalis   \n",
       "1  JF710959.1  Alcaligenes faecalis   \n",
       "2  KT988067.1  Alcaligenes faecalis   \n",
       "3  KP224304.1  Alcaligenes faecalis   \n",
       "4  KF534470.1  Alcaligenes faecalis   \n",
       "\n",
       "                                            sequence remark          name  \n",
       "0  ATTGAACGCTAGCGGGATGCTTTACACATGCAAGTCGAACGGCAGC...      R  R_MN513225.1  \n",
       "1  TACACATGCAAGTCGAACGGCAGCACGAGAGAGCTTGCTCTCTTGG...      R  R_JF710959.1  \n",
       "2  ATTGAACGCTAGCGGGATGCTTTACACATGCAAGTCGAACGGCAGC...      R  R_KT988067.1  \n",
       "3  GAGTTTGATCCTGGCTCAGATTGAACGCTAGCGGGATGCTTTACAC...      R  R_KP224304.1  \n",
       "4  GAGTTTGATCCTGGCTCAGATTGAACGCTAGCGGGATGCTTTACAC...      R  R_KF534470.1  "
      ]
     },
     "execution_count": 2,
     "metadata": {},
     "output_type": "execute_result"
    }
   ],
   "source": [
    "combined_seq = pd.read_csv('./data/combined_seq.csv')\n",
    "combined_seq.head()"
   ]
  },
  {
   "cell_type": "code",
   "execution_count": 3,
   "id": "1f8337d9",
   "metadata": {
    "scrolled": true
   },
   "outputs": [
    {
     "data": {
      "text/plain": [
       "['Achromobacter marplatensis',\n",
       " 'Acinetobacter lwoffii',\n",
       " 'Acinetobacter radioresistens',\n",
       " 'Acinetobacter rudis',\n",
       " 'Advenella kashmirensis',\n",
       " 'Alcaligenes faecalis',\n",
       " 'Bacillus aerius',\n",
       " 'Bacillus aryabhattai',\n",
       " 'Bacillus cereus',\n",
       " 'Bacillus haynesii',\n",
       " 'Bacillus kochii',\n",
       " 'Bacillus licheniformis',\n",
       " 'Bacillus pseudomycoides',\n",
       " 'Bacillus safensis',\n",
       " 'Bacillus subtilis',\n",
       " 'Bacillus velezensis',\n",
       " 'Bacillus weidmannii',\n",
       " 'Bacillus wiedmannii',\n",
       " 'Brevibacillus agri',\n",
       " 'Brevibacillus agrii',\n",
       " 'Brevundimonas diminuta',\n",
       " 'Brevundimonas naejangsanensis',\n",
       " 'Curtobacterium oceanosedimentum',\n",
       " 'Exiguobacterium aquaticum',\n",
       " 'Janibacter melonis',\n",
       " 'Lysinibacillus fusiformis',\n",
       " 'Ochrobactrum anthropi',\n",
       " 'Ochrobactrum pseudogrignonense',\n",
       " 'Ochrobactrum pseudogrignonense  ',\n",
       " 'Paenibacillus lautus',\n",
       " 'Paenibacillus taichungensis',\n",
       " 'Planococcus massiliensis',\n",
       " 'Pseudomonas parafulva',\n",
       " 'Pseudomonas putida',\n",
       " 'Pseudomonas umsongensis',\n",
       " 'Rhodococcus qingshengii',\n",
       " 'Serratia marcescens',\n",
       " 'Sporosarcina globispora',\n",
       " 'Sporosarcina koreensis',\n",
       " 'Sporosarcina koreensis ',\n",
       " 'Sporosarcina psychrophila',\n",
       " 'Stenotrophomonas maltophilia',\n",
       " 'Stenotrophomonas pavanii',\n",
       " 'Stenotrophomonas rhizophilia']"
      ]
     },
     "execution_count": 3,
     "metadata": {},
     "output_type": "execute_result"
    }
   ],
   "source": [
    "list(combined_seq['species'].sort_values().unique())"
   ]
  },
  {
   "cell_type": "markdown",
   "id": "defensive-driving",
   "metadata": {},
   "source": [
    "# Start Haplotype Analysis"
   ]
  },
  {
   "cell_type": "code",
   "execution_count": 4,
   "id": "dental-introduction",
   "metadata": {},
   "outputs": [],
   "source": [
    "#Analyse Species Wise\n",
    "SPECIES = 'Alcaligenes faecalis'"
   ]
  },
  {
   "cell_type": "code",
   "execution_count": 5,
   "id": "numerical-level",
   "metadata": {},
   "outputs": [
    {
     "data": {
      "text/html": [
       "<div>\n",
       "<style scoped>\n",
       "    .dataframe tbody tr th:only-of-type {\n",
       "        vertical-align: middle;\n",
       "    }\n",
       "\n",
       "    .dataframe tbody tr th {\n",
       "        vertical-align: top;\n",
       "    }\n",
       "\n",
       "    .dataframe thead th {\n",
       "        text-align: right;\n",
       "    }\n",
       "</style>\n",
       "<table border=\"1\" class=\"dataframe\">\n",
       "  <thead>\n",
       "    <tr style=\"text-align: right;\">\n",
       "      <th></th>\n",
       "      <th>accession</th>\n",
       "      <th>species</th>\n",
       "      <th>sequence</th>\n",
       "      <th>remark</th>\n",
       "      <th>name</th>\n",
       "    </tr>\n",
       "  </thead>\n",
       "  <tbody>\n",
       "    <tr>\n",
       "      <th>0</th>\n",
       "      <td>MN513225.1</td>\n",
       "      <td>Alcaligenes faecalis</td>\n",
       "      <td>ATTGAACGCTAGCGGGATGCTTTACACATGCAAGTCGAACGGCAGC...</td>\n",
       "      <td>R</td>\n",
       "      <td>R_MN513225.1</td>\n",
       "    </tr>\n",
       "    <tr>\n",
       "      <th>1</th>\n",
       "      <td>JF710959.1</td>\n",
       "      <td>Alcaligenes faecalis</td>\n",
       "      <td>TACACATGCAAGTCGAACGGCAGCACGAGAGAGCTTGCTCTCTTGG...</td>\n",
       "      <td>R</td>\n",
       "      <td>R_JF710959.1</td>\n",
       "    </tr>\n",
       "    <tr>\n",
       "      <th>2</th>\n",
       "      <td>KT988067.1</td>\n",
       "      <td>Alcaligenes faecalis</td>\n",
       "      <td>ATTGAACGCTAGCGGGATGCTTTACACATGCAAGTCGAACGGCAGC...</td>\n",
       "      <td>R</td>\n",
       "      <td>R_KT988067.1</td>\n",
       "    </tr>\n",
       "    <tr>\n",
       "      <th>3</th>\n",
       "      <td>KP224304.1</td>\n",
       "      <td>Alcaligenes faecalis</td>\n",
       "      <td>GAGTTTGATCCTGGCTCAGATTGAACGCTAGCGGGATGCTTTACAC...</td>\n",
       "      <td>R</td>\n",
       "      <td>R_KP224304.1</td>\n",
       "    </tr>\n",
       "    <tr>\n",
       "      <th>4</th>\n",
       "      <td>KF534470.1</td>\n",
       "      <td>Alcaligenes faecalis</td>\n",
       "      <td>GAGTTTGATCCTGGCTCAGATTGAACGCTAGCGGGATGCTTTACAC...</td>\n",
       "      <td>R</td>\n",
       "      <td>R_KF534470.1</td>\n",
       "    </tr>\n",
       "  </tbody>\n",
       "</table>\n",
       "</div>"
      ],
      "text/plain": [
       "    accession               species  \\\n",
       "0  MN513225.1  Alcaligenes faecalis   \n",
       "1  JF710959.1  Alcaligenes faecalis   \n",
       "2  KT988067.1  Alcaligenes faecalis   \n",
       "3  KP224304.1  Alcaligenes faecalis   \n",
       "4  KF534470.1  Alcaligenes faecalis   \n",
       "\n",
       "                                            sequence remark          name  \n",
       "0  ATTGAACGCTAGCGGGATGCTTTACACATGCAAGTCGAACGGCAGC...      R  R_MN513225.1  \n",
       "1  TACACATGCAAGTCGAACGGCAGCACGAGAGAGCTTGCTCTCTTGG...      R  R_JF710959.1  \n",
       "2  ATTGAACGCTAGCGGGATGCTTTACACATGCAAGTCGAACGGCAGC...      R  R_KT988067.1  \n",
       "3  GAGTTTGATCCTGGCTCAGATTGAACGCTAGCGGGATGCTTTACAC...      R  R_KP224304.1  \n",
       "4  GAGTTTGATCCTGGCTCAGATTGAACGCTAGCGGGATGCTTTACAC...      R  R_KF534470.1  "
      ]
     },
     "execution_count": 5,
     "metadata": {},
     "output_type": "execute_result"
    }
   ],
   "source": [
    "# Filter sample sequences\n",
    "sp_sequences = combined_seq[combined_seq['species'] == SPECIES]\n",
    "sp_sequences.head()"
   ]
  },
  {
   "cell_type": "code",
   "execution_count": 6,
   "id": "4aa7d92a",
   "metadata": {},
   "outputs": [
    {
     "name": "stdout",
     "output_type": "stream",
     "text": [
      "['R_MN513225.1', 'R_JF710959.1', 'R_KT988067.1', 'R_KP224304.1', 'R_KF534470.1', 'R_NR_113606.1', 'R_NR_043445.1', 'R_NR_042830.1', 'R_NR_025357.1']\n"
     ]
    }
   ],
   "source": [
    "ref_accessions = list(sp_sequences[sp_sequences['remark'] == 'R']['name'])\n",
    "print(ref_accessions)"
   ]
  },
  {
   "cell_type": "code",
   "execution_count": 7,
   "id": "95f02f2c",
   "metadata": {
    "scrolled": false
   },
   "outputs": [],
   "source": [
    "# Perform restriction Digestion\n",
    "mspI_digestion = RestrictionDigestion(\n",
    "    accessions=sp_sequences, \n",
    "    enzyme=Restriction.MspI, \n",
    "    label_col=\"name\",\n",
    "    sequence_col=\"sequence\"\n",
    ")"
   ]
  },
  {
   "cell_type": "code",
   "execution_count": 15,
   "id": "e67b2f4d",
   "metadata": {},
   "outputs": [
    {
     "data": {
      "image/png": "[encoded data removed]",
      "text/plain": [
       "<Figure size 1080x432 with 1 Axes>"
      ]
     },
     "metadata": {
      "needs_background": "light"
     },
     "output_type": "display_data"
    }
   ],
   "source": [
    "matrix_bin = mspI_digestion.binary_matrix\n",
    "#matrix_bin = matrix_bin.filter_size(50)\n",
    "matrix_bin = matrix_bin.apply_tolerance(5)\n",
    "matrix_bin.plot_electrophoretic_diagram(\n",
    "    figsize=(15, 6),\n",
    "    #exclude=['R_MN513225.1', 'R_JF710959.1', 'R_KT988067.1', 'R_KP224304.1', 'R_KF534470.1', 'R_NR_113606.1', 'R_NR_043445.1', 'R_NR_042830.1']\n",
    "    #exclude=ref_accessions,\n",
    ")"
   ]
  },
  {
   "cell_type": "code",
   "execution_count": 14,
   "id": "cosmetic-cement",
   "metadata": {},
   "outputs": [
    {
     "data": {
      "text/plain": [
       "['118_1', '130_1', '535_1', '81_1', '96_1']"
      ]
     },
     "execution_count": 14,
     "metadata": {},
     "output_type": "execute_result"
    }
   ],
   "source": [
    "matrix_bin.get_haplotypes(\n",
    "    size_tolerance=6,\n",
    "    #exclude=['R_MN513225.1', 'R_JF710959.1', 'R_KT988067.1', 'R_KP224304.1', 'R_KF534470.1', 'R_NR_113606.1', 'R_NR_043445.1', 'R_NR_042830.1'],\n",
    "    #exclude=ref_accessions,\n",
    "    allow_polymorphism=0\n",
    ")"
   ]
  },
  {
   "cell_type": "code",
   "execution_count": null,
   "id": "aaf232c0",
   "metadata": {},
   "outputs": [],
   "source": []
  }
 ],
 "metadata": {
  "kernelspec": {
   "display_name": "Python 3",
   "language": "python",
   "name": "python3"
  },
  "language_info": {
   "codemirror_mode": {
    "name": "ipython",
    "version": 3
   },
   "file_extension": ".py",
   "mimetype": "text/x-python",
   "name": "python",
   "nbconvert_exporter": "python",
   "pygments_lexer": "ipython3",
   "version": "3.9.2"
  }
 },
 "nbformat": 4,
 "nbformat_minor": 5
}
