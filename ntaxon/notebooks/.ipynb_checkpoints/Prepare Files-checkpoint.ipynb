{
 "cells": [
  {
   "cell_type": "code",
   "execution_count": 1,
   "metadata": {},
   "outputs": [],
   "source": [
    "import os\n",
    "import pandas as pd\n",
    "from Bio import SeqIO"
   ]
  },
  {
   "cell_type": "code",
   "execution_count": 9,
   "metadata": {},
   "outputs": [],
   "source": [
    "# Get all fasta files\n",
    "files = [dI for dI in os.listdir('.') if os.path.isfile(os.path.join('.',dI))]\n",
    "for f in files[:]:\n",
    "    if not(f.endswith('.fasta')):\n",
    "        files.remove(f)"
   ]
  },
  {
   "cell_type": "code",
   "execution_count": 14,
   "metadata": {},
   "outputs": [
    {
     "data": {
      "text/html": [
       "<div>\n",
       "<style scoped>\n",
       "    .dataframe tbody tr th:only-of-type {\n",
       "        vertical-align: middle;\n",
       "    }\n",
       "\n",
       "    .dataframe tbody tr th {\n",
       "        vertical-align: top;\n",
       "    }\n",
       "\n",
       "    .dataframe thead th {\n",
       "        text-align: right;\n",
       "    }\n",
       "</style>\n",
       "<table border=\"1\" class=\"dataframe\">\n",
       "  <thead>\n",
       "    <tr style=\"text-align: right;\">\n",
       "      <th></th>\n",
       "      <th>accession</th>\n",
       "      <th>species</th>\n",
       "      <th>sequence</th>\n",
       "    </tr>\n",
       "  </thead>\n",
       "  <tbody>\n",
       "    <tr>\n",
       "      <th>0</th>\n",
       "      <td>NR_025227.1</td>\n",
       "      <td>Pseudomonas umsongensis</td>\n",
       "      <td>AACGCTGGCGGCAGGCCTAACACATGCAAGTCGAGCGGATGAAGAG...</td>\n",
       "    </tr>\n",
       "    <tr>\n",
       "      <th>1</th>\n",
       "      <td>NR_157609.1</td>\n",
       "      <td>Bacillus haynesii</td>\n",
       "      <td>AGAGTTTGATCCTGGCTCAGGACGAACGCTGGCGGCGTGCCTAATA...</td>\n",
       "    </tr>\n",
       "    <tr>\n",
       "      <th>2</th>\n",
       "      <td>NR_116064.1</td>\n",
       "      <td>Curtobacterium oceanosedimentum</td>\n",
       "      <td>GACGAACGCTGGCGGCGTGCTTAACACATGCAAGTCGAACGATGAT...</td>\n",
       "    </tr>\n",
       "    <tr>\n",
       "      <th>3</th>\n",
       "      <td>NR_104839.1</td>\n",
       "      <td>Curtobacterium oceanosedimentum</td>\n",
       "      <td>TCAGGACGAACGCTGGCGGCGTGCTTAACACATGCAAGTCGAACGA...</td>\n",
       "    </tr>\n",
       "    <tr>\n",
       "      <th>4</th>\n",
       "      <td>NR_115988.1</td>\n",
       "      <td>Acinetobacter rudis</td>\n",
       "      <td>CCAGGGATTTGATTATGGCTCAGATTGAACGCTGGCGGCAGGCTTA...</td>\n",
       "    </tr>\n",
       "  </tbody>\n",
       "</table>\n",
       "</div>"
      ],
      "text/plain": [
       "     accession                          species  \\\n",
       "0  NR_025227.1          Pseudomonas umsongensis   \n",
       "1  NR_157609.1                Bacillus haynesii   \n",
       "2  NR_116064.1  Curtobacterium oceanosedimentum   \n",
       "3  NR_104839.1  Curtobacterium oceanosedimentum   \n",
       "4  NR_115988.1              Acinetobacter rudis   \n",
       "\n",
       "                                            sequence  \n",
       "0  AACGCTGGCGGCAGGCCTAACACATGCAAGTCGAGCGGATGAAGAG...  \n",
       "1  AGAGTTTGATCCTGGCTCAGGACGAACGCTGGCGGCGTGCCTAATA...  \n",
       "2  GACGAACGCTGGCGGCGTGCTTAACACATGCAAGTCGAACGATGAT...  \n",
       "3  TCAGGACGAACGCTGGCGGCGTGCTTAACACATGCAAGTCGAACGA...  \n",
       "4  CCAGGGATTTGATTATGGCTCAGATTGAACGCTGGCGGCAGGCTTA...  "
      ]
     },
     "execution_count": 14,
     "metadata": {},
     "output_type": "execute_result"
    }
   ],
   "source": [
    "accessions = pd.DataFrame(columns=['accession', 'species', 'sequence'])\n",
    "for f in files:\n",
    "    records = list(SeqIO.parse(f, 'fasta'))\n",
    "    for r in records:\n",
    "        accessions = accessions.append({\n",
    "            \"accession\": r.id,\n",
    "            \"species\": os.path.splitext(f)[0],\n",
    "            \"sequence\": str(r.seq)\n",
    "        }, ignore_index=True)\n",
    "accessions.head()"
   ]
  },
  {
   "cell_type": "code",
   "execution_count": 15,
   "metadata": {},
   "outputs": [],
   "source": [
    "accessions.to_csv('ref_seq_accessions.csv')"
   ]
  },
  {
   "cell_type": "code",
   "execution_count": null,
   "metadata": {},
   "outputs": [],
   "source": [
    "mspI_digestion.plot_electrophoretic_diagram(\n",
    "    min_frequency=1, \n",
    "    min_common_haplotye=5, \n",
    "    min_size=50, \n",
    "    figsize=(15, 6), \n",
    "#    lane_order=col_names_reordered\n",
    ")"
   ]
  }
 ],
 "metadata": {
  "kernelspec": {
   "display_name": "Python 3",
   "language": "python",
   "name": "python3"
  },
  "language_info": {
   "codemirror_mode": {
    "name": "ipython",
    "version": 3
   },
   "file_extension": ".py",
   "mimetype": "text/x-python",
   "name": "python",
   "nbconvert_exporter": "python",
   "pygments_lexer": "ipython3",
   "version": "3.9.1"
  }
 },
 "nbformat": 4,
 "nbformat_minor": 4
}
