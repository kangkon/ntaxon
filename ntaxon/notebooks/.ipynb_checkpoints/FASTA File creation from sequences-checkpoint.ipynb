{
 "cells": [
  {
   "cell_type": "code",
   "execution_count": 5,
   "id": "reliable-continuity",
   "metadata": {},
   "outputs": [],
   "source": [
    "import pandas as pd\n",
    "from Bio import SeqIO\n",
    "from Bio.Seq import Seq\n",
    "from Bio.SeqRecord import SeqRecord"
   ]
  },
  {
   "cell_type": "code",
   "execution_count": 3,
   "id": "equivalent-conjunction",
   "metadata": {},
   "outputs": [
    {
     "data": {
      "text/html": [
       "<div>\n",
       "<style scoped>\n",
       "    .dataframe tbody tr th:only-of-type {\n",
       "        vertical-align: middle;\n",
       "    }\n",
       "\n",
       "    .dataframe tbody tr th {\n",
       "        vertical-align: top;\n",
       "    }\n",
       "\n",
       "    .dataframe thead th {\n",
       "        text-align: right;\n",
       "    }\n",
       "</style>\n",
       "<table border=\"1\" class=\"dataframe\">\n",
       "  <thead>\n",
       "    <tr style=\"text-align: right;\">\n",
       "      <th></th>\n",
       "      <th>accession</th>\n",
       "      <th>isolate</th>\n",
       "      <th>sequence</th>\n",
       "      <th>species</th>\n",
       "      <th>genera</th>\n",
       "      <th>phylum</th>\n",
       "    </tr>\n",
       "  </thead>\n",
       "  <tbody>\n",
       "    <tr>\n",
       "      <th>0</th>\n",
       "      <td>MN493874.1</td>\n",
       "      <td>K2</td>\n",
       "      <td>AAGGGGTGGCCTACACATGCAAGTCGAACGGCAGCACAGGAGAGCT...</td>\n",
       "      <td>Stenotrophomonas maltophilia</td>\n",
       "      <td>Stenotrophomonas</td>\n",
       "      <td>Proteobacteria</td>\n",
       "    </tr>\n",
       "    <tr>\n",
       "      <th>1</th>\n",
       "      <td>MN493875.1</td>\n",
       "      <td>K4</td>\n",
       "      <td>GGCGCAGGCCTACACATGCAAGTCGAACGAACTCTTCGGAGTTAGT...</td>\n",
       "      <td>Brevundimonas naejangsanensis</td>\n",
       "      <td>Brevundimonas</td>\n",
       "      <td>Proteobacteria</td>\n",
       "    </tr>\n",
       "    <tr>\n",
       "      <th>2</th>\n",
       "      <td>MN493876.1</td>\n",
       "      <td>K7</td>\n",
       "      <td>AATGCGGGGCCTACACATGCAAGTCGAACGGCAGCACAGGAGAGCT...</td>\n",
       "      <td>Stenotrophomonas pavanii</td>\n",
       "      <td>Stenotrophomonas</td>\n",
       "      <td>Proteobacteria</td>\n",
       "    </tr>\n",
       "    <tr>\n",
       "      <th>3</th>\n",
       "      <td>MN493877.1</td>\n",
       "      <td>K9</td>\n",
       "      <td>CCAAGGGCGGCCTTACCATGCAAGTCGAGCGCCCCGCAAGGGGAGC...</td>\n",
       "      <td>Ochrobactrum anthropi</td>\n",
       "      <td>Ochrobactrum</td>\n",
       "      <td>Proteobacteria</td>\n",
       "    </tr>\n",
       "    <tr>\n",
       "      <th>4</th>\n",
       "      <td>MN493878.1</td>\n",
       "      <td>K10</td>\n",
       "      <td>GCAGCTTACCATGCAAGTCGAGCGCCCCGCAAGGGGAGCGGCAGAC...</td>\n",
       "      <td>Ochrobactrum anthropi</td>\n",
       "      <td>Ochrobactrum</td>\n",
       "      <td>Proteobacteria</td>\n",
       "    </tr>\n",
       "  </tbody>\n",
       "</table>\n",
       "</div>"
      ],
      "text/plain": [
       "    accession isolate                                           sequence  \\\n",
       "0  MN493874.1      K2  AAGGGGTGGCCTACACATGCAAGTCGAACGGCAGCACAGGAGAGCT...   \n",
       "1  MN493875.1      K4  GGCGCAGGCCTACACATGCAAGTCGAACGAACTCTTCGGAGTTAGT...   \n",
       "2  MN493876.1      K7  AATGCGGGGCCTACACATGCAAGTCGAACGGCAGCACAGGAGAGCT...   \n",
       "3  MN493877.1      K9  CCAAGGGCGGCCTTACCATGCAAGTCGAGCGCCCCGCAAGGGGAGC...   \n",
       "4  MN493878.1     K10  GCAGCTTACCATGCAAGTCGAGCGCCCCGCAAGGGGAGCGGCAGAC...   \n",
       "\n",
       "                         species             genera          phylum  \n",
       "0   Stenotrophomonas maltophilia  Stenotrophomonas   Proteobacteria  \n",
       "1  Brevundimonas naejangsanensis     Brevundimonas   Proteobacteria  \n",
       "2       Stenotrophomonas pavanii  Stenotrophomonas   Proteobacteria  \n",
       "3          Ochrobactrum anthropi      Ochrobactrum   Proteobacteria  \n",
       "4          Ochrobactrum anthropi      Ochrobactrum   Proteobacteria  "
      ]
     },
     "execution_count": 3,
     "metadata": {},
     "output_type": "execute_result"
    }
   ],
   "source": [
    "seq_df = pd.read_csv(\"data/isolates_details_seq.csv\")\n",
    "seq_df.head()"
   ]
  },
  {
   "cell_type": "code",
   "execution_count": 7,
   "id": "naked-experiment",
   "metadata": {},
   "outputs": [
    {
     "data": {
      "text/plain": [
       "72"
      ]
     },
     "execution_count": 7,
     "metadata": {},
     "output_type": "execute_result"
    }
   ],
   "source": [
    "seq_records = []\n",
    "for i, r in seq_df.iterrows():\n",
    "    seq = Seq(r['sequence'])\n",
    "    seq_records.append(SeqRecord(\n",
    "        seq,\n",
    "        r['accession'],\n",
    "        \"\",\n",
    "        \"\"\n",
    "    ))\n",
    "SeqIO.write(seq_records, \"data/isolate_sequences.fasta\", \"fasta\")"
   ]
  },
  {
   "cell_type": "code",
   "execution_count": null,
   "id": "advisory-sperm",
   "metadata": {},
   "outputs": [],
   "source": []
  }
 ],
 "metadata": {
  "kernelspec": {
   "display_name": "Python 3",
   "language": "python",
   "name": "python3"
  },
  "language_info": {
   "codemirror_mode": {
    "name": "ipython",
    "version": 3
   },
   "file_extension": ".py",
   "mimetype": "text/x-python",
   "name": "python",
   "nbconvert_exporter": "python",
   "pygments_lexer": "ipython3",
   "version": "3.9.1"
  }
 },
 "nbformat": 4,
 "nbformat_minor": 5
}
