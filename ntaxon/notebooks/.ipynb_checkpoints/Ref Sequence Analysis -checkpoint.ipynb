{
 "cells": [
  {
   "cell_type": "code",
   "execution_count": 1,
   "id": "serious-translation",
   "metadata": {},
   "outputs": [],
   "source": [
    "import pandas as pd\n",
    "from Bio import Restriction\n",
    "from ntaxon.fingerprinting.rflp import RestrictionDigestion\n",
    "\n",
    "accessions = pd.read_csv('../ref_seq_accessions.csv')\n",
    "mspI_digestion = RestrictionDigestion(\n",
    "    accessions=accessions, \n",
    "    enzyme=Restriction.MspI, \n",
    "    label_col=\"accession\",\n",
    "    sequence_col=\"sequence\"\n",
    ")\n",
    "\n",
    "matrix = mspI_digestion.digestion_profile()\n",
    "matrix_bin = matrix.get_binary_matrix()"
   ]
  },
  {
   "cell_type": "code",
   "execution_count": 35,
   "id": "enhanced-watson",
   "metadata": {},
   "outputs": [
    {
     "data": {
      "text/html": [
       "<div>\n",
       "<style scoped>\n",
       "    .dataframe tbody tr th:only-of-type {\n",
       "        vertical-align: middle;\n",
       "    }\n",
       "\n",
       "    .dataframe tbody tr th {\n",
       "        vertical-align: top;\n",
       "    }\n",
       "\n",
       "    .dataframe thead th {\n",
       "        text-align: right;\n",
       "    }\n",
       "</style>\n",
       "<table border=\"1\" class=\"dataframe\">\n",
       "  <thead>\n",
       "    <tr style=\"text-align: right;\">\n",
       "      <th></th>\n",
       "      <th>Unnamed: 0</th>\n",
       "      <th>accession</th>\n",
       "      <th>species</th>\n",
       "      <th>sequence</th>\n",
       "    </tr>\n",
       "  </thead>\n",
       "  <tbody>\n",
       "    <tr>\n",
       "      <th>0</th>\n",
       "      <td>0</td>\n",
       "      <td>NR_025227.1</td>\n",
       "      <td>Pseudomonas umsongensis</td>\n",
       "      <td>AACGCTGGCGGCAGGCCTAACACATGCAAGTCGAGCGGATGAAGAG...</td>\n",
       "    </tr>\n",
       "    <tr>\n",
       "      <th>1</th>\n",
       "      <td>1</td>\n",
       "      <td>NR_157609.1</td>\n",
       "      <td>Bacillus haynesii</td>\n",
       "      <td>AGAGTTTGATCCTGGCTCAGGACGAACGCTGGCGGCGTGCCTAATA...</td>\n",
       "    </tr>\n",
       "    <tr>\n",
       "      <th>2</th>\n",
       "      <td>2</td>\n",
       "      <td>NR_116064.1</td>\n",
       "      <td>Curtobacterium oceanosedimentum</td>\n",
       "      <td>GACGAACGCTGGCGGCGTGCTTAACACATGCAAGTCGAACGATGAT...</td>\n",
       "    </tr>\n",
       "    <tr>\n",
       "      <th>3</th>\n",
       "      <td>3</td>\n",
       "      <td>NR_104839.1</td>\n",
       "      <td>Curtobacterium oceanosedimentum</td>\n",
       "      <td>TCAGGACGAACGCTGGCGGCGTGCTTAACACATGCAAGTCGAACGA...</td>\n",
       "    </tr>\n",
       "    <tr>\n",
       "      <th>4</th>\n",
       "      <td>4</td>\n",
       "      <td>NR_115988.1</td>\n",
       "      <td>Acinetobacter rudis</td>\n",
       "      <td>CCAGGGATTTGATTATGGCTCAGATTGAACGCTGGCGGCAGGCTTA...</td>\n",
       "    </tr>\n",
       "  </tbody>\n",
       "</table>\n",
       "</div>"
      ],
      "text/plain": [
       "   Unnamed: 0    accession                          species  \\\n",
       "0           0  NR_025227.1          Pseudomonas umsongensis   \n",
       "1           1  NR_157609.1                Bacillus haynesii   \n",
       "2           2  NR_116064.1  Curtobacterium oceanosedimentum   \n",
       "3           3  NR_104839.1  Curtobacterium oceanosedimentum   \n",
       "4           4  NR_115988.1              Acinetobacter rudis   \n",
       "\n",
       "                                            sequence  \n",
       "0  AACGCTGGCGGCAGGCCTAACACATGCAAGTCGAGCGGATGAAGAG...  \n",
       "1  AGAGTTTGATCCTGGCTCAGGACGAACGCTGGCGGCGTGCCTAATA...  \n",
       "2  GACGAACGCTGGCGGCGTGCTTAACACATGCAAGTCGAACGATGAT...  \n",
       "3  TCAGGACGAACGCTGGCGGCGTGCTTAACACATGCAAGTCGAACGA...  \n",
       "4  CCAGGGATTTGATTATGGCTCAGATTGAACGCTGGCGGCAGGCTTA...  "
      ]
     },
     "execution_count": 35,
     "metadata": {},
     "output_type": "execute_result"
    }
   ],
   "source": [
    "accessions.head()"
   ]
  },
  {
   "cell_type": "code",
   "execution_count": 38,
   "id": "amended-router",
   "metadata": {},
   "outputs": [],
   "source": [
    "#accessions.sort_values(by=\"species\", axis=0)[['accession', 'species']].to_csv('16s_ref_seq_data.csv')"
   ]
  },
  {
   "cell_type": "code",
   "execution_count": 3,
   "id": "reported-pacific",
   "metadata": {},
   "outputs": [
    {
     "data": {
      "text/html": [
       "<div>\n",
       "<style scoped>\n",
       "    .dataframe tbody tr th:only-of-type {\n",
       "        vertical-align: middle;\n",
       "    }\n",
       "\n",
       "    .dataframe tbody tr th {\n",
       "        vertical-align: top;\n",
       "    }\n",
       "\n",
       "    .dataframe thead th {\n",
       "        text-align: right;\n",
       "    }\n",
       "</style>\n",
       "<table border=\"1\" class=\"dataframe\">\n",
       "  <thead>\n",
       "    <tr style=\"text-align: right;\">\n",
       "      <th></th>\n",
       "      <th>size</th>\n",
       "      <th>isolate</th>\n",
       "      <th>fragment</th>\n",
       "      <th>haplotype</th>\n",
       "      <th>species</th>\n",
       "    </tr>\n",
       "  </thead>\n",
       "  <tbody>\n",
       "    <tr>\n",
       "      <th>0</th>\n",
       "      <td>466</td>\n",
       "      <td>NR_025227.1</td>\n",
       "      <td>AACGCTGGCGGCAGGCCTAACACATGCAAGTCGAGCGGATGAAGAG...</td>\n",
       "      <td>466_1</td>\n",
       "      <td>Pseudomonas umsongensis</td>\n",
       "    </tr>\n",
       "    <tr>\n",
       "      <th>1</th>\n",
       "      <td>110</td>\n",
       "      <td>NR_025227.1</td>\n",
       "      <td>CGGCTAACTCTGTGCCAGCAGCCGCGGTAATACAGAGGGTGCAAGC...</td>\n",
       "      <td>110_1</td>\n",
       "      <td>Pseudomonas umsongensis</td>\n",
       "    </tr>\n",
       "    <tr>\n",
       "      <th>2</th>\n",
       "      <td>549</td>\n",
       "      <td>NR_025227.1</td>\n",
       "      <td>CGGGCTCAACCTGGGAACTGCATTCAAAACTGACAAGCTAGAGTAT...</td>\n",
       "      <td>549_1</td>\n",
       "      <td>Pseudomonas umsongensis</td>\n",
       "    </tr>\n",
       "    <tr>\n",
       "      <th>3</th>\n",
       "      <td>130</td>\n",
       "      <td>NR_025227.1</td>\n",
       "      <td>CGGAGGAAGGTGGGGATGACGTCAAGTCATCATGGCCCTTACGGCC...</td>\n",
       "      <td>130_1</td>\n",
       "      <td>Pseudomonas umsongensis</td>\n",
       "    </tr>\n",
       "    <tr>\n",
       "      <th>4</th>\n",
       "      <td>81</td>\n",
       "      <td>NR_025227.1</td>\n",
       "      <td>CGGATCGCAGTCTGCAACTCGACTGCGTGAAGTCGGAATCGCTAGT...</td>\n",
       "      <td>81_1</td>\n",
       "      <td>Pseudomonas umsongensis</td>\n",
       "    </tr>\n",
       "    <tr>\n",
       "      <th>...</th>\n",
       "      <td>...</td>\n",
       "      <td>...</td>\n",
       "      <td>...</td>\n",
       "      <td>...</td>\n",
       "      <td>...</td>\n",
       "    </tr>\n",
       "    <tr>\n",
       "      <th>580</th>\n",
       "      <td>111</td>\n",
       "      <td>NR_114074.1</td>\n",
       "      <td>CGGGCCTTGTACACACCGCCCGTCACACCATGGGAGTTTGTTGCAC...</td>\n",
       "      <td>111_1</td>\n",
       "      <td>Acinetobacter radioresistens</td>\n",
       "    </tr>\n",
       "    <tr>\n",
       "      <th>581</th>\n",
       "      <td>467</td>\n",
       "      <td>NR_026210.1</td>\n",
       "      <td>AACGCTGGCGGCAGGCTTAACACATGCAAGTCGAGCGGATGAAGGT...</td>\n",
       "      <td>467_1</td>\n",
       "      <td>Acinetobacter radioresistens</td>\n",
       "    </tr>\n",
       "    <tr>\n",
       "      <th>582</th>\n",
       "      <td>799</td>\n",
       "      <td>NR_026210.1</td>\n",
       "      <td>CGGCTAACTCTGTGCCAGCAGCCGCGGTAATACAGAGGGTGCGAGC...</td>\n",
       "      <td>799_1</td>\n",
       "      <td>Acinetobacter radioresistens</td>\n",
       "    </tr>\n",
       "    <tr>\n",
       "      <th>583</th>\n",
       "      <td>81</td>\n",
       "      <td>NR_026210.1</td>\n",
       "      <td>CGGATTGGAGTCTGCAACTCGACTCCATGAAGTCGGAATCGCTAGT...</td>\n",
       "      <td>81_1</td>\n",
       "      <td>Acinetobacter radioresistens</td>\n",
       "    </tr>\n",
       "    <tr>\n",
       "      <th>584</th>\n",
       "      <td>112</td>\n",
       "      <td>NR_026210.1</td>\n",
       "      <td>CGGGCCTTGTACACACCGCCCGTCACACCATGGGAGTTTGTTGCAC...</td>\n",
       "      <td>112_1</td>\n",
       "      <td>Acinetobacter radioresistens</td>\n",
       "    </tr>\n",
       "  </tbody>\n",
       "</table>\n",
       "<p>585 rows × 5 columns</p>\n",
       "</div>"
      ],
      "text/plain": [
       "    size      isolate                                           fragment  \\\n",
       "0    466  NR_025227.1  AACGCTGGCGGCAGGCCTAACACATGCAAGTCGAGCGGATGAAGAG...   \n",
       "1    110  NR_025227.1  CGGCTAACTCTGTGCCAGCAGCCGCGGTAATACAGAGGGTGCAAGC...   \n",
       "2    549  NR_025227.1  CGGGCTCAACCTGGGAACTGCATTCAAAACTGACAAGCTAGAGTAT...   \n",
       "3    130  NR_025227.1  CGGAGGAAGGTGGGGATGACGTCAAGTCATCATGGCCCTTACGGCC...   \n",
       "4     81  NR_025227.1  CGGATCGCAGTCTGCAACTCGACTGCGTGAAGTCGGAATCGCTAGT...   \n",
       "..   ...          ...                                                ...   \n",
       "580  111  NR_114074.1  CGGGCCTTGTACACACCGCCCGTCACACCATGGGAGTTTGTTGCAC...   \n",
       "581  467  NR_026210.1  AACGCTGGCGGCAGGCTTAACACATGCAAGTCGAGCGGATGAAGGT...   \n",
       "582  799  NR_026210.1  CGGCTAACTCTGTGCCAGCAGCCGCGGTAATACAGAGGGTGCGAGC...   \n",
       "583   81  NR_026210.1  CGGATTGGAGTCTGCAACTCGACTCCATGAAGTCGGAATCGCTAGT...   \n",
       "584  112  NR_026210.1  CGGGCCTTGTACACACCGCCCGTCACACCATGGGAGTTTGTTGCAC...   \n",
       "\n",
       "    haplotype                       species  \n",
       "0       466_1       Pseudomonas umsongensis  \n",
       "1       110_1       Pseudomonas umsongensis  \n",
       "2       549_1       Pseudomonas umsongensis  \n",
       "3       130_1       Pseudomonas umsongensis  \n",
       "4        81_1       Pseudomonas umsongensis  \n",
       "..        ...                           ...  \n",
       "580     111_1  Acinetobacter radioresistens  \n",
       "581     467_1  Acinetobacter radioresistens  \n",
       "582     799_1  Acinetobacter radioresistens  \n",
       "583      81_1  Acinetobacter radioresistens  \n",
       "584     112_1  Acinetobacter radioresistens  \n",
       "\n",
       "[585 rows x 5 columns]"
      ]
     },
     "execution_count": 3,
     "metadata": {},
     "output_type": "execute_result"
    }
   ],
   "source": [
    "mspI_digestion.digestion_table().data()"
   ]
  },
  {
   "cell_type": "code",
   "execution_count": 4,
   "id": "realistic-sandwich",
   "metadata": {},
   "outputs": [
    {
     "data": {
      "image/png": "[encoded data removed]",
      "text/plain": [
       "<Figure size 1080x432 with 1 Axes>"
      ]
     },
     "metadata": {
      "needs_background": "light"
     },
     "output_type": "display_data"
    }
   ],
   "source": [
    "mspI_digestion.plot_electrophoretic_diagram(min_frequency=1, min_size=100, figsize=(15, 6))"
   ]
  },
  {
   "cell_type": "code",
   "execution_count": 5,
   "id": "differential-orientation",
   "metadata": {},
   "outputs": [
    {
     "data": {
      "text/plain": [
       "['_RestrictionDigestion__accession_input',\n",
       " '_RestrictionDigestion__construct_binary_matrix',\n",
       " '_RestrictionDigestion__digestion_profile',\n",
       " '_RestrictionDigestion__digestion_table',\n",
       " '_RestrictionDigestion__perform_restriction_digestion',\n",
       " '_RestrictionDigestion__restriction_enzyme',\n",
       " '_RestrictionDigestion__species_names',\n",
       " '__class__',\n",
       " '__delattr__',\n",
       " '__dict__',\n",
       " '__dir__',\n",
       " '__doc__',\n",
       " '__eq__',\n",
       " '__format__',\n",
       " '__ge__',\n",
       " '__getattribute__',\n",
       " '__gt__',\n",
       " '__hash__',\n",
       " '__init__',\n",
       " '__init_subclass__',\n",
       " '__le__',\n",
       " '__lt__',\n",
       " '__module__',\n",
       " '__ne__',\n",
       " '__new__',\n",
       " '__reduce__',\n",
       " '__reduce_ex__',\n",
       " '__repr__',\n",
       " '__setattr__',\n",
       " '__sizeof__',\n",
       " '__str__',\n",
       " '__subclasshook__',\n",
       " '__weakref__',\n",
       " 'digestion_profile',\n",
       " 'digestion_table',\n",
       " 'plot_electrophoretic_diagram',\n",
       " 'plot_histogram',\n",
       " 'screen_ref_haplotype']"
      ]
     },
     "execution_count": 5,
     "metadata": {},
     "output_type": "execute_result"
    }
   ],
   "source": [
    "dir(mspI_digestion)"
   ]
  },
  {
   "cell_type": "code",
   "execution_count": 20,
   "id": "applicable-meaning",
   "metadata": {},
   "outputs": [
    {
     "data": {
      "text/html": [
       "<div>\n",
       "<style scoped>\n",
       "    .dataframe tbody tr th:only-of-type {\n",
       "        vertical-align: middle;\n",
       "    }\n",
       "\n",
       "    .dataframe tbody tr th {\n",
       "        vertical-align: top;\n",
       "    }\n",
       "\n",
       "    .dataframe thead th {\n",
       "        text-align: right;\n",
       "    }\n",
       "</style>\n",
       "<table border=\"1\" class=\"dataframe\">\n",
       "  <thead>\n",
       "    <tr style=\"text-align: right;\">\n",
       "      <th>isolate</th>\n",
       "      <th>NR_025227.1</th>\n",
       "      <th>NR_025357.1</th>\n",
       "      <th>NR_025805.1</th>\n",
       "      <th>NR_026209.1</th>\n",
       "      <th>NR_026210.1</th>\n",
       "      <th>NR_027552.1</th>\n",
       "      <th>NR_028930.1</th>\n",
       "      <th>NR_029233.1</th>\n",
       "      <th>NR_036886.1</th>\n",
       "      <th>NR_036942.1</th>\n",
       "      <th>...</th>\n",
       "      <th>NR_118912.1</th>\n",
       "      <th>NR_118959.1</th>\n",
       "      <th>NR_118965.1</th>\n",
       "      <th>NR_118972.1</th>\n",
       "      <th>NR_118996.1</th>\n",
       "      <th>NR_119220.1</th>\n",
       "      <th>NR_121739.1</th>\n",
       "      <th>NR_144714.1</th>\n",
       "      <th>NR_152692.1</th>\n",
       "      <th>NR_157609.1</th>\n",
       "    </tr>\n",
       "    <tr>\n",
       "      <th>haplotype</th>\n",
       "      <th></th>\n",
       "      <th></th>\n",
       "      <th></th>\n",
       "      <th></th>\n",
       "      <th></th>\n",
       "      <th></th>\n",
       "      <th></th>\n",
       "      <th></th>\n",
       "      <th></th>\n",
       "      <th></th>\n",
       "      <th></th>\n",
       "      <th></th>\n",
       "      <th></th>\n",
       "      <th></th>\n",
       "      <th></th>\n",
       "      <th></th>\n",
       "      <th></th>\n",
       "      <th></th>\n",
       "      <th></th>\n",
       "      <th></th>\n",
       "      <th></th>\n",
       "    </tr>\n",
       "  </thead>\n",
       "  <tbody>\n",
       "    <tr>\n",
       "      <th>996_1</th>\n",
       "      <td>0</td>\n",
       "      <td>0</td>\n",
       "      <td>0</td>\n",
       "      <td>0</td>\n",
       "      <td>0</td>\n",
       "      <td>0</td>\n",
       "      <td>0</td>\n",
       "      <td>0</td>\n",
       "      <td>0</td>\n",
       "      <td>0</td>\n",
       "      <td>...</td>\n",
       "      <td>0</td>\n",
       "      <td>0</td>\n",
       "      <td>0</td>\n",
       "      <td>0</td>\n",
       "      <td>0</td>\n",
       "      <td>0</td>\n",
       "      <td>0</td>\n",
       "      <td>0</td>\n",
       "      <td>0</td>\n",
       "      <td>0</td>\n",
       "    </tr>\n",
       "    <tr>\n",
       "      <th>799_1</th>\n",
       "      <td>0</td>\n",
       "      <td>0</td>\n",
       "      <td>0</td>\n",
       "      <td>0</td>\n",
       "      <td>1</td>\n",
       "      <td>0</td>\n",
       "      <td>0</td>\n",
       "      <td>0</td>\n",
       "      <td>0</td>\n",
       "      <td>0</td>\n",
       "      <td>...</td>\n",
       "      <td>0</td>\n",
       "      <td>0</td>\n",
       "      <td>0</td>\n",
       "      <td>0</td>\n",
       "      <td>0</td>\n",
       "      <td>0</td>\n",
       "      <td>0</td>\n",
       "      <td>0</td>\n",
       "      <td>0</td>\n",
       "      <td>0</td>\n",
       "    </tr>\n",
       "    <tr>\n",
       "      <th>757_1</th>\n",
       "      <td>0</td>\n",
       "      <td>0</td>\n",
       "      <td>0</td>\n",
       "      <td>0</td>\n",
       "      <td>0</td>\n",
       "      <td>0</td>\n",
       "      <td>0</td>\n",
       "      <td>0</td>\n",
       "      <td>0</td>\n",
       "      <td>0</td>\n",
       "      <td>...</td>\n",
       "      <td>0</td>\n",
       "      <td>0</td>\n",
       "      <td>0</td>\n",
       "      <td>0</td>\n",
       "      <td>0</td>\n",
       "      <td>0</td>\n",
       "      <td>0</td>\n",
       "      <td>0</td>\n",
       "      <td>0</td>\n",
       "      <td>0</td>\n",
       "    </tr>\n",
       "    <tr>\n",
       "      <th>660_1</th>\n",
       "      <td>0</td>\n",
       "      <td>0</td>\n",
       "      <td>0</td>\n",
       "      <td>0</td>\n",
       "      <td>0</td>\n",
       "      <td>0</td>\n",
       "      <td>0</td>\n",
       "      <td>0</td>\n",
       "      <td>0</td>\n",
       "      <td>0</td>\n",
       "      <td>...</td>\n",
       "      <td>0</td>\n",
       "      <td>0</td>\n",
       "      <td>0</td>\n",
       "      <td>0</td>\n",
       "      <td>0</td>\n",
       "      <td>1</td>\n",
       "      <td>0</td>\n",
       "      <td>0</td>\n",
       "      <td>0</td>\n",
       "      <td>0</td>\n",
       "    </tr>\n",
       "    <tr>\n",
       "      <th>656_1</th>\n",
       "      <td>0</td>\n",
       "      <td>0</td>\n",
       "      <td>0</td>\n",
       "      <td>0</td>\n",
       "      <td>0</td>\n",
       "      <td>0</td>\n",
       "      <td>0</td>\n",
       "      <td>0</td>\n",
       "      <td>0</td>\n",
       "      <td>0</td>\n",
       "      <td>...</td>\n",
       "      <td>0</td>\n",
       "      <td>0</td>\n",
       "      <td>0</td>\n",
       "      <td>0</td>\n",
       "      <td>0</td>\n",
       "      <td>0</td>\n",
       "      <td>0</td>\n",
       "      <td>0</td>\n",
       "      <td>0</td>\n",
       "      <td>0</td>\n",
       "    </tr>\n",
       "  </tbody>\n",
       "</table>\n",
       "<p>5 rows × 101 columns</p>\n",
       "</div>"
      ],
      "text/plain": [
       "isolate    NR_025227.1  NR_025357.1  NR_025805.1  NR_026209.1  NR_026210.1  \\\n",
       "haplotype                                                                    \n",
       "996_1                0            0            0            0            0   \n",
       "799_1                0            0            0            0            1   \n",
       "757_1                0            0            0            0            0   \n",
       "660_1                0            0            0            0            0   \n",
       "656_1                0            0            0            0            0   \n",
       "\n",
       "isolate    NR_027552.1  NR_028930.1  NR_029233.1  NR_036886.1  NR_036942.1  \\\n",
       "haplotype                                                                    \n",
       "996_1                0            0            0            0            0   \n",
       "799_1                0            0            0            0            0   \n",
       "757_1                0            0            0            0            0   \n",
       "660_1                0            0            0            0            0   \n",
       "656_1                0            0            0            0            0   \n",
       "\n",
       "isolate    ...  NR_118912.1  NR_118959.1  NR_118965.1  NR_118972.1  \\\n",
       "haplotype  ...                                                       \n",
       "996_1      ...            0            0            0            0   \n",
       "799_1      ...            0            0            0            0   \n",
       "757_1      ...            0            0            0            0   \n",
       "660_1      ...            0            0            0            0   \n",
       "656_1      ...            0            0            0            0   \n",
       "\n",
       "isolate    NR_118996.1  NR_119220.1  NR_121739.1  NR_144714.1  NR_152692.1  \\\n",
       "haplotype                                                                    \n",
       "996_1                0            0            0            0            0   \n",
       "799_1                0            0            0            0            0   \n",
       "757_1                0            0            0            0            0   \n",
       "660_1                0            1            0            0            0   \n",
       "656_1                0            0            0            0            0   \n",
       "\n",
       "isolate    NR_157609.1  \n",
       "haplotype               \n",
       "996_1                0  \n",
       "799_1                0  \n",
       "757_1                0  \n",
       "660_1                0  \n",
       "656_1                0  \n",
       "\n",
       "[5 rows x 101 columns]"
      ]
     },
     "execution_count": 20,
     "metadata": {},
     "output_type": "execute_result"
    }
   ],
   "source": [
    "matrix_bin.head()"
   ]
  },
  {
   "cell_type": "code",
   "execution_count": 7,
   "id": "foster-blade",
   "metadata": {},
   "outputs": [],
   "source": [
    "from ntaxon.phylogeny import cluster\n",
    "from scipy.spatial.distance import pdist\n",
    "from scipy.cluster.hierarchy import linkage, dendrogram, leaves_list\n",
    "from matplotlib import pyplot as plt"
   ]
  },
  {
   "cell_type": "code",
   "execution_count": 8,
   "id": "friendly-mount",
   "metadata": {},
   "outputs": [
    {
     "data": {
      "text/plain": [
       "array([0.05194805, 0.11038961, 0.05844156, ..., 0.08441558, 0.09090909,\n",
       "       0.05844156])"
      ]
     },
     "execution_count": 8,
     "metadata": {},
     "output_type": "execute_result"
    }
   ],
   "source": [
    "pdist_mat = pdist(matrix_bin.transpose(), 'hamming')\n",
    "pdist_mat"
   ]
  },
  {
   "cell_type": "code",
   "execution_count": 9,
   "id": "twenty-romania",
   "metadata": {
    "scrolled": true
   },
   "outputs": [],
   "source": [
    "linkage_mat = linkage(pdist_mat, method='average', optimal_ordering=True)"
   ]
  },
  {
   "cell_type": "code",
   "execution_count": 10,
   "id": "korean-barrier",
   "metadata": {},
   "outputs": [
    {
     "data": {
      "text/plain": [
       "100"
      ]
     },
     "execution_count": 10,
     "metadata": {},
     "output_type": "execute_result"
    }
   ],
   "source": [
    "len(linkage_mat)"
   ]
  },
  {
   "cell_type": "code",
   "execution_count": 11,
   "id": "social-sperm",
   "metadata": {},
   "outputs": [
    {
     "data": {
      "text/plain": [
       "101"
      ]
     },
     "execution_count": 11,
     "metadata": {},
     "output_type": "execute_result"
    }
   ],
   "source": [
    "len(matrix_bin.columns)"
   ]
  },
  {
   "cell_type": "code",
   "execution_count": 12,
   "id": "demanding-cream",
   "metadata": {},
   "outputs": [
    {
     "data": {
      "text/plain": [
       "101"
      ]
     },
     "execution_count": 12,
     "metadata": {},
     "output_type": "execute_result"
    }
   ],
   "source": [
    "leaves_order = leaves_list(linkage_mat)\n",
    "len(leaves_order)"
   ]
  },
  {
   "cell_type": "code",
   "execution_count": 13,
   "id": "streaming-garbage",
   "metadata": {
    "scrolled": true
   },
   "outputs": [],
   "source": [
    "col_names_reordered = [matrix_bin.columns[i] for i in leaves_order]\n",
    "# col_names_reordered"
   ]
  },
  {
   "cell_type": "code",
   "execution_count": 14,
   "id": "trained-commitment",
   "metadata": {},
   "outputs": [],
   "source": [
    "# matrix_bin[col_names_reordered]"
   ]
  },
  {
   "cell_type": "code",
   "execution_count": 15,
   "id": "eleven-approach",
   "metadata": {},
   "outputs": [
    {
     "data": {
      "text/html": [
       "<div>\n",
       "<style scoped>\n",
       "    .dataframe tbody tr th:only-of-type {\n",
       "        vertical-align: middle;\n",
       "    }\n",
       "\n",
       "    .dataframe tbody tr th {\n",
       "        vertical-align: top;\n",
       "    }\n",
       "\n",
       "    .dataframe thead th {\n",
       "        text-align: right;\n",
       "    }\n",
       "</style>\n",
       "<table border=\"1\" class=\"dataframe\">\n",
       "  <thead>\n",
       "    <tr style=\"text-align: right;\">\n",
       "      <th></th>\n",
       "      <th>size</th>\n",
       "      <th>isolate</th>\n",
       "      <th>fragment</th>\n",
       "      <th>haplotype</th>\n",
       "      <th>species</th>\n",
       "    </tr>\n",
       "  </thead>\n",
       "  <tbody>\n",
       "    <tr>\n",
       "      <th>0</th>\n",
       "      <td>466</td>\n",
       "      <td>NR_025227.1</td>\n",
       "      <td>AACGCTGGCGGCAGGCCTAACACATGCAAGTCGAGCGGATGAAGAG...</td>\n",
       "      <td>466_1</td>\n",
       "      <td>Pseudomonas umsongensis</td>\n",
       "    </tr>\n",
       "    <tr>\n",
       "      <th>1</th>\n",
       "      <td>110</td>\n",
       "      <td>NR_025227.1</td>\n",
       "      <td>CGGCTAACTCTGTGCCAGCAGCCGCGGTAATACAGAGGGTGCAAGC...</td>\n",
       "      <td>110_1</td>\n",
       "      <td>Pseudomonas umsongensis</td>\n",
       "    </tr>\n",
       "    <tr>\n",
       "      <th>2</th>\n",
       "      <td>549</td>\n",
       "      <td>NR_025227.1</td>\n",
       "      <td>CGGGCTCAACCTGGGAACTGCATTCAAAACTGACAAGCTAGAGTAT...</td>\n",
       "      <td>549_1</td>\n",
       "      <td>Pseudomonas umsongensis</td>\n",
       "    </tr>\n",
       "    <tr>\n",
       "      <th>3</th>\n",
       "      <td>130</td>\n",
       "      <td>NR_025227.1</td>\n",
       "      <td>CGGAGGAAGGTGGGGATGACGTCAAGTCATCATGGCCCTTACGGCC...</td>\n",
       "      <td>130_1</td>\n",
       "      <td>Pseudomonas umsongensis</td>\n",
       "    </tr>\n",
       "    <tr>\n",
       "      <th>4</th>\n",
       "      <td>81</td>\n",
       "      <td>NR_025227.1</td>\n",
       "      <td>CGGATCGCAGTCTGCAACTCGACTGCGTGAAGTCGGAATCGCTAGT...</td>\n",
       "      <td>81_1</td>\n",
       "      <td>Pseudomonas umsongensis</td>\n",
       "    </tr>\n",
       "  </tbody>\n",
       "</table>\n",
       "</div>"
      ],
      "text/plain": [
       "  size      isolate                                           fragment  \\\n",
       "0  466  NR_025227.1  AACGCTGGCGGCAGGCCTAACACATGCAAGTCGAGCGGATGAAGAG...   \n",
       "1  110  NR_025227.1  CGGCTAACTCTGTGCCAGCAGCCGCGGTAATACAGAGGGTGCAAGC...   \n",
       "2  549  NR_025227.1  CGGGCTCAACCTGGGAACTGCATTCAAAACTGACAAGCTAGAGTAT...   \n",
       "3  130  NR_025227.1  CGGAGGAAGGTGGGGATGACGTCAAGTCATCATGGCCCTTACGGCC...   \n",
       "4   81  NR_025227.1  CGGATCGCAGTCTGCAACTCGACTGCGTGAAGTCGGAATCGCTAGT...   \n",
       "\n",
       "  haplotype                  species  \n",
       "0     466_1  Pseudomonas umsongensis  \n",
       "1     110_1  Pseudomonas umsongensis  \n",
       "2     549_1  Pseudomonas umsongensis  \n",
       "3     130_1  Pseudomonas umsongensis  \n",
       "4      81_1  Pseudomonas umsongensis  "
      ]
     },
     "execution_count": 15,
     "metadata": {},
     "output_type": "execute_result"
    }
   ],
   "source": [
    "digestion = mspI_digestion.digestion_table().data()\n",
    "digestion.head()"
   ]
  },
  {
   "cell_type": "code",
   "execution_count": 28,
   "id": "certain-visiting",
   "metadata": {},
   "outputs": [
    {
     "data": {
      "image/png": "[encoded data removed]",
      "text/plain": [
       "<Figure size 1080x432 with 1 Axes>"
      ]
     },
     "metadata": {
      "needs_background": "light"
     },
     "output_type": "display_data"
    }
   ],
   "source": [
    "mspI_digestion.plot_electrophoretic_diagram(\n",
    "    min_frequency=1, \n",
    "    min_common_haplotye=5, \n",
    "    min_size=50, \n",
    "    figsize=(15, 6), \n",
    "    lane_order=col_names_reordered)"
   ]
  },
  {
   "cell_type": "code",
   "execution_count": null,
   "id": "spectacular-thermal",
   "metadata": {
    "scrolled": true
   },
   "outputs": [],
   "source": [
    "fig = plt.figure(figsize=(20, 25))\n",
    "ax = fig.add_subplot(1, 1, 1)\n",
    "ddg = dendrogram(linkage_mat, labels=matrix_bin.columns)\n",
    "ax.tick_params(axis='x', which='major', labelsize=15)\n",
    "ax.tick_params(axis='y', which='major', labelsize=8)\n",
    "plt.show()"
   ]
  },
  {
   "cell_type": "code",
   "execution_count": null,
   "id": "matched-following",
   "metadata": {},
   "outputs": [],
   "source": [
    "matrix_bin.columns"
   ]
  }
 ],
 "metadata": {
  "kernelspec": {
   "display_name": "Python 3",
   "language": "python",
   "name": "python3"
  },
  "language_info": {
   "codemirror_mode": {
    "name": "ipython",
    "version": 3
   },
   "file_extension": ".py",
   "mimetype": "text/x-python",
   "name": "python",
   "nbconvert_exporter": "python",
   "pygments_lexer": "ipython3",
   "version": "3.9.1"
  }
 },
 "nbformat": 4,
 "nbformat_minor": 5
}
