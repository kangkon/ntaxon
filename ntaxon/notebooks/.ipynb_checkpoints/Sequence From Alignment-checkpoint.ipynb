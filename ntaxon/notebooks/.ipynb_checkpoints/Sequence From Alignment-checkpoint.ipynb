{
 "cells": [
  {
   "cell_type": "code",
   "execution_count": 1,
   "id": "dated-helping",
   "metadata": {},
   "outputs": [],
   "source": [
    "import pandas as pd\n",
    "from Bio import SeqIO\n",
    "from Bio.Seq import Seq\n",
    "from Bio.SeqRecord import SeqRecord\n",
    "from Bio import AlignIO"
   ]
  },
  {
   "cell_type": "code",
   "execution_count": 3,
   "id": "analyzed-spelling",
   "metadata": {},
   "outputs": [
    {
     "name": "stdout",
     "output_type": "stream",
     "text": [
      "Alignment with 72 rows and 1414 columns\n",
      "acatgcaagtcgaacggcacggagagcttgctctcggtggcgag...gg- MN493874.1\n",
      "acatgcaagtcgaacgaa--------------ctccggagttag...agg MN493875.1\n",
      "acatgcaagtcgaacggcacggagagcttgctctcggtggcgag...ggt MN493876.1\n",
      "ccatgcaagtcgagcg----------------ccccaaggggag...agg MN493877.1\n",
      "ccatgcaagtcgagcg----------------ccccaaggggag...agg MN493878.1\n",
      "acatgcaagtcgagcgaacaaaggagcttgctcctcgacgttag...gat MN493879.1\n",
      "ccatgcaagtcgaacggcacgaggagcttgctcttggtggcgag...ggt MN493880.1\n",
      "--atgcaagtcgaacggcacagagagcttgctctcggcggcgag...gtg MN493881.1\n",
      "ccatgcaagtcgaacggcacagagagcttgctctcggcggcgag...gtg MN493882.1\n",
      "acatgcaagtcgagcgaacagaggagcttgcttcttgatgttag...tga MN493883.1\n",
      "acatgcaagtcgagcggacagagaagcttgcttctgatggttag...gga MN493884.1\n",
      "acatgcaagtcgagcggacatgggagcttgctccctgatgttag...gga MN493885.1\n",
      "acatgcaagtcgaacggcacagagagcttgctctcggcggcgag...gtg MN493886.1\n",
      "acatgcaagtcgaacggcacagagagcttgctctcggcggcgag...ttg MN493887.1\n",
      "taatgcaagtcgagcggatgagggagcttgctccctgatattag...gga MN493888.1\n",
      "---tgcaagtcgagcggatgagggagcttgctccctgatattag...gga MN493889.1\n",
      "----gcaagtcgagcggacacgggagcttgctcccttaggtcag...gga MN493890.1\n",
      "-----caagtcgagcgaatataagagcttgctctttgaagttag...gga MN577364.1\n",
      "...\n",
      "acatgcaagtcgagcggacatgggagcttgctccctgatgttag...tga MN577389.1\n"
     ]
    }
   ],
   "source": [
    "alignment = AlignIO.read(\"data/alignments/mafft_aln_tr_001_cons_60.phy\", \"phylip\")\n",
    "print(alignment)"
   ]
  },
  {
   "cell_type": "code",
   "execution_count": 5,
   "id": "talented-librarian",
   "metadata": {},
   "outputs": [],
   "source": [
    "sequences_raw = []\n",
    "for record in alignment:\n",
    "    # Ungap sequences in fasta format\n",
    "    sequences_raw.append(SeqRecord(\n",
    "        record.seq.ungap(\"-\"),\n",
    "        record.id,\n",
    "        \"\",\n",
    "        \"\"\n",
    "    ))"
   ]
  },
  {
   "cell_type": "code",
   "execution_count": 6,
   "id": "shared-found",
   "metadata": {},
   "outputs": [
    {
     "data": {
      "text/plain": [
       "72"
      ]
     },
     "execution_count": 6,
     "metadata": {},
     "output_type": "execute_result"
    }
   ],
   "source": [
    "SeqIO.write(sequences_raw, \"data/isolate_sequences_corrected.fasta\", \"fasta\")"
   ]
  },
  {
   "cell_type": "code",
   "execution_count": null,
   "id": "authentic-baghdad",
   "metadata": {},
   "outputs": [],
   "source": []
  }
 ],
 "metadata": {
  "kernelspec": {
   "display_name": "Python 3",
   "language": "python",
   "name": "python3"
  },
  "language_info": {
   "codemirror_mode": {
    "name": "ipython",
    "version": 3
   },
   "file_extension": ".py",
   "mimetype": "text/x-python",
   "name": "python",
   "nbconvert_exporter": "python",
   "pygments_lexer": "ipython3",
   "version": "3.9.1"
  }
 },
 "nbformat": 4,
 "nbformat_minor": 5
}
