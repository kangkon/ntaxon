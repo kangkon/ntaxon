{
 "cells": [
  {
   "cell_type": "code",
   "execution_count": 10,
   "id": "environmental-venice",
   "metadata": {},
   "outputs": [],
   "source": [
    "import pandas as pd\n",
    "from Bio import SeqIO\n",
    "from Bio import Restriction\n",
    "from ntaxon.nucleotide import Sequence as Seq\n",
    "from Bio import AlignIO"
   ]
  },
  {
   "cell_type": "markdown",
   "id": "brutal-laser",
   "metadata": {},
   "source": [
    "# Get accessions from fasta"
   ]
  },
  {
   "cell_type": "code",
   "execution_count": 4,
   "id": "unavailable-edwards",
   "metadata": {},
   "outputs": [
    {
     "data": {
      "text/html": [
       "<div>\n",
       "<style scoped>\n",
       "    .dataframe tbody tr th:only-of-type {\n",
       "        vertical-align: middle;\n",
       "    }\n",
       "\n",
       "    .dataframe tbody tr th {\n",
       "        vertical-align: top;\n",
       "    }\n",
       "\n",
       "    .dataframe thead th {\n",
       "        text-align: right;\n",
       "    }\n",
       "</style>\n",
       "<table border=\"1\" class=\"dataframe\">\n",
       "  <thead>\n",
       "    <tr style=\"text-align: right;\">\n",
       "      <th></th>\n",
       "      <th>sample</th>\n",
       "      <th>sequence</th>\n",
       "    </tr>\n",
       "  </thead>\n",
       "  <tbody>\n",
       "    <tr>\n",
       "      <th>0</th>\n",
       "      <td>MN493874.1</td>\n",
       "      <td>acatgcaagtcgaacggcacggagagcttgctctcggtggcgagtg...</td>\n",
       "    </tr>\n",
       "    <tr>\n",
       "      <th>1</th>\n",
       "      <td>MN493875.1</td>\n",
       "      <td>acatgcaagtcgaacgaactccggagttagtggcggacgggtgagt...</td>\n",
       "    </tr>\n",
       "    <tr>\n",
       "      <th>2</th>\n",
       "      <td>MN493876.1</td>\n",
       "      <td>acatgcaagtcgaacggcacggagagcttgctctcggtggcgagtg...</td>\n",
       "    </tr>\n",
       "    <tr>\n",
       "      <th>3</th>\n",
       "      <td>MN493877.1</td>\n",
       "      <td>ccatgcaagtcgagcgccccaaggggagcggcagacgggtgagtaa...</td>\n",
       "    </tr>\n",
       "    <tr>\n",
       "      <th>4</th>\n",
       "      <td>MN493878.1</td>\n",
       "      <td>ccatgcaagtcgagcgccccaaggggagcggcagacgggtgagtaa...</td>\n",
       "    </tr>\n",
       "  </tbody>\n",
       "</table>\n",
       "</div>"
      ],
      "text/plain": [
       "       sample                                           sequence\n",
       "0  MN493874.1  acatgcaagtcgaacggcacggagagcttgctctcggtggcgagtg...\n",
       "1  MN493875.1  acatgcaagtcgaacgaactccggagttagtggcggacgggtgagt...\n",
       "2  MN493876.1  acatgcaagtcgaacggcacggagagcttgctctcggtggcgagtg...\n",
       "3  MN493877.1  ccatgcaagtcgagcgccccaaggggagcggcagacgggtgagtaa...\n",
       "4  MN493878.1  ccatgcaagtcgagcgccccaaggggagcggcagacgggtgagtaa..."
      ]
     },
     "execution_count": 4,
     "metadata": {},
     "output_type": "execute_result"
    }
   ],
   "source": [
    "fasta = \"data/isolate_sequences_corrected.fasta\"\n",
    "seq_list = []\n",
    "for record in SeqIO.parse(fasta, \"fasta\"):\n",
    "    seq_list.append([record.id, str(record.seq)])\n",
    "accessions = pd.DataFrame(data=seq_list, columns=['sample', 'sequence'])\n",
    "accessions.head()"
   ]
  },
  {
   "cell_type": "markdown",
   "id": "consolidated-accommodation",
   "metadata": {},
   "source": [
    "# Get Accessions from Alignment"
   ]
  },
  {
   "cell_type": "code",
   "execution_count": 14,
   "id": "conditional-underwear",
   "metadata": {},
   "outputs": [
    {
     "name": "stdout",
     "output_type": "stream",
     "text": [
      "Alignment with 72 rows and 1335 columns\n",
      "GGTGGCGAGTGGCGGACGGGTGAGGAATACATCGGAATCTACTT...ACC MN493874.1\n",
      "CGGAGTTAGTGGCGGACGGGTGAGTAACACGTGGGAACGTGCCT...ACC MN493875.1\n",
      "GGTGGCGAGTGGCGGACGGGTGAGGAATACATCGGAATCTACTC...ACC MN493876.1\n",
      "CAAGGGGAGCGGCAGACGGGTGAGTAACGCGTGGGAACGTACCT...ACC MN493877.1\n",
      "CAAGGGGAGCGGCAGACGGGTGAGTAACGCGTGGGAACGTACCT...ACC MN493878.1\n",
      "CGACGTTAGCGGCGGACGGGTGAGTAACACGTGGCAACCTACCT...ACC MN493879.1\n",
      "GGTGGCGAGTGGCGGACGGGGGAGGAATACATCGGAATCTACCT...ACC MN493880.1\n",
      "GGCGGCGAGTGGCGGACGGGTGAGTAATATATCGGAACGTGCCC...ACC MN493881.1\n",
      "GGCGGCGAGTGGCGGACGGGTGAGTAATATATCGGAACGTGCCC...ACC MN493882.1\n",
      "TGATGTTAGCGGCGGATGGGTGAGTAACACGTGGCAACCTGCCC...ACC MN493883.1\n",
      "GATGGTTAGCGGCGGACGGGTGAGTAACACGTAGCAACCTGCCC...ACC MN493884.1\n",
      "TGATGTTAGCGGCGGACGGGTGAGTAACACGTGGTAACCTGCCT...ACC MN493885.1\n",
      "GGCGGCGAGTGGCGGACGGGTGAGTAATATATCGGAACGTGCCC...ACC MN493886.1\n",
      "GGCGGCGAGTGGCGGACGGGTGAGTAATATATCGGAACGTGCCC...ACC MN493887.1\n",
      "TGATATTAGCGGCGGACGGGTGAGTAACACGTGGCAACCTGCCC...ACC MN493888.1\n",
      "TGATATTAGCGGCGGACGGGTGAGTAACACGTGGCAACCTGCCC...ACC MN493889.1\n",
      "TTAGGTCAGCGGCGGACGGGTGAGTAACACGTGGTAACCTGCCT...ACC MN493890.1\n",
      "TGAAGTTAGCGGCGGACGGGTGAGTAACACGTGGTAACCTGCCC...ACC MN577364.1\n",
      "...\n",
      "TGATGTTAGCGGCGGACGGGTGAGTAACACGTGGTAACCTGCCT...ACC MN577389.1\n"
     ]
    }
   ],
   "source": [
    "alignment = AlignIO.read(\"data/alignments/cropped_aln.fasta\", \"fasta\")\n",
    "print(alignment)"
   ]
  },
  {
   "cell_type": "code",
   "execution_count": 16,
   "id": "executive-collector",
   "metadata": {},
   "outputs": [
    {
     "data": {
      "text/html": [
       "<div>\n",
       "<style scoped>\n",
       "    .dataframe tbody tr th:only-of-type {\n",
       "        vertical-align: middle;\n",
       "    }\n",
       "\n",
       "    .dataframe tbody tr th {\n",
       "        vertical-align: top;\n",
       "    }\n",
       "\n",
       "    .dataframe thead th {\n",
       "        text-align: right;\n",
       "    }\n",
       "</style>\n",
       "<table border=\"1\" class=\"dataframe\">\n",
       "  <thead>\n",
       "    <tr style=\"text-align: right;\">\n",
       "      <th></th>\n",
       "      <th>sample</th>\n",
       "      <th>sequence</th>\n",
       "    </tr>\n",
       "  </thead>\n",
       "  <tbody>\n",
       "    <tr>\n",
       "      <th>0</th>\n",
       "      <td>MN493874.1</td>\n",
       "      <td>GGTGGCGAGTGGCGGACGGGTGAGGAATACATCGGAATCTACTTTT...</td>\n",
       "    </tr>\n",
       "    <tr>\n",
       "      <th>1</th>\n",
       "      <td>MN493875.1</td>\n",
       "      <td>CGGAGTTAGTGGCGGACGGGTGAGTAACACGTGGGAACGTGCCTTT...</td>\n",
       "    </tr>\n",
       "    <tr>\n",
       "      <th>2</th>\n",
       "      <td>MN493876.1</td>\n",
       "      <td>GGTGGCGAGTGGCGGACGGGTGAGGAATACATCGGAATCTACTCTG...</td>\n",
       "    </tr>\n",
       "    <tr>\n",
       "      <th>3</th>\n",
       "      <td>MN493877.1</td>\n",
       "      <td>CAAGGGGAGCGGCAGACGGGTGAGTAACGCGTGGGAACGTACCTTT...</td>\n",
       "    </tr>\n",
       "    <tr>\n",
       "      <th>4</th>\n",
       "      <td>MN493878.1</td>\n",
       "      <td>CAAGGGGAGCGGCAGACGGGTGAGTAACGCGTGGGAACGTACCTTT...</td>\n",
       "    </tr>\n",
       "  </tbody>\n",
       "</table>\n",
       "</div>"
      ],
      "text/plain": [
       "       sample                                           sequence\n",
       "0  MN493874.1  GGTGGCGAGTGGCGGACGGGTGAGGAATACATCGGAATCTACTTTT...\n",
       "1  MN493875.1  CGGAGTTAGTGGCGGACGGGTGAGTAACACGTGGGAACGTGCCTTT...\n",
       "2  MN493876.1  GGTGGCGAGTGGCGGACGGGTGAGGAATACATCGGAATCTACTCTG...\n",
       "3  MN493877.1  CAAGGGGAGCGGCAGACGGGTGAGTAACGCGTGGGAACGTACCTTT...\n",
       "4  MN493878.1  CAAGGGGAGCGGCAGACGGGTGAGTAACGCGTGGGAACGTACCTTT..."
      ]
     },
     "execution_count": 16,
     "metadata": {},
     "output_type": "execute_result"
    }
   ],
   "source": [
    "seq_list = []\n",
    "for record in alignment:\n",
    "    seq_list.append([record.id, str(record.seq.ungap('-'))])\n",
    "accessions = pd.DataFrame(data=seq_list, columns=['sample', 'sequence'])\n",
    "accessions.head()"
   ]
  },
  {
   "cell_type": "code",
   "execution_count": 17,
   "id": "chinese-bunch",
   "metadata": {},
   "outputs": [
    {
     "data": {
      "text/html": [
       "<div>\n",
       "<style scoped>\n",
       "    .dataframe tbody tr th:only-of-type {\n",
       "        vertical-align: middle;\n",
       "    }\n",
       "\n",
       "    .dataframe tbody tr th {\n",
       "        vertical-align: top;\n",
       "    }\n",
       "\n",
       "    .dataframe thead th {\n",
       "        text-align: right;\n",
       "    }\n",
       "</style>\n",
       "<table border=\"1\" class=\"dataframe\">\n",
       "  <thead>\n",
       "    <tr style=\"text-align: right;\">\n",
       "      <th></th>\n",
       "      <th>sample</th>\n",
       "      <th>restriction_loc</th>\n",
       "    </tr>\n",
       "  </thead>\n",
       "  <tbody>\n",
       "    <tr>\n",
       "      <th>0</th>\n",
       "      <td>MN493874.1</td>\n",
       "      <td>377</td>\n",
       "    </tr>\n",
       "    <tr>\n",
       "      <th>1</th>\n",
       "      <td>MN493874.1</td>\n",
       "      <td>410</td>\n",
       "    </tr>\n",
       "    <tr>\n",
       "      <th>2</th>\n",
       "      <td>MN493874.1</td>\n",
       "      <td>1067</td>\n",
       "    </tr>\n",
       "    <tr>\n",
       "      <th>3</th>\n",
       "      <td>MN493874.1</td>\n",
       "      <td>1078</td>\n",
       "    </tr>\n",
       "    <tr>\n",
       "      <th>4</th>\n",
       "      <td>MN493874.1</td>\n",
       "      <td>1169</td>\n",
       "    </tr>\n",
       "  </tbody>\n",
       "</table>\n",
       "</div>"
      ],
      "text/plain": [
       "       sample restriction_loc\n",
       "0  MN493874.1             377\n",
       "1  MN493874.1             410\n",
       "2  MN493874.1            1067\n",
       "3  MN493874.1            1078\n",
       "4  MN493874.1            1169"
      ]
     },
     "execution_count": 17,
     "metadata": {},
     "output_type": "execute_result"
    }
   ],
   "source": [
    "r_map_df = pd.DataFrame(columns=['sample', 'restriction_loc'])\n",
    "for i, r in accessions.iterrows():\n",
    "    s = Seq(r['sequence'])\n",
    "    r_maps = s.restriction_search(Restriction.MspI)\n",
    "    for m in r_maps:\n",
    "        r_map_df = r_map_df.append({\n",
    "            'sample': r['sample'],\n",
    "            'restriction_loc': m\n",
    "        }, ignore_index=True)\n",
    "\n",
    "r_map_df.head()"
   ]
  }
 ],
 "metadata": {
  "kernelspec": {
   "display_name": "Python 3",
   "language": "python",
   "name": "python3"
  },
  "language_info": {
   "codemirror_mode": {
    "name": "ipython",
    "version": 3
   },
   "file_extension": ".py",
   "mimetype": "text/x-python",
   "name": "python",
   "nbconvert_exporter": "python",
   "pygments_lexer": "ipython3",
   "version": "3.9.1"
  }
 },
 "nbformat": 4,
 "nbformat_minor": 5
}
