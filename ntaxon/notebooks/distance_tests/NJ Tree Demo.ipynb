{
 "cells": [
  {
   "cell_type": "code",
   "execution_count": 16,
   "id": "7f051332",
   "metadata": {},
   "outputs": [],
   "source": [
    "from ntaxon.phylogeny import DistanceMatrix\n",
    "from Bio.Phylo.TreeConstruction import DistanceTreeConstructor\n",
    "from Bio.Phylo import draw\n",
    "import numpy as np\n",
    "from ntaxon.phylogeny.distance import squareform_to_dist"
   ]
  },
  {
   "cell_type": "code",
   "execution_count": 2,
   "id": "c48a0ec4",
   "metadata": {},
   "outputs": [],
   "source": [
    "x = [[0.        , 0.02229676, 0.10571022, 0.08147616, 0.0940135 ],\n",
    "       [0.02229676, 0.        , 0.10571022, 0.08147616, 0.05634492],\n",
    "       [0.10571022, 0.10571022, 0.        , 0.18604557, 0.19984383],\n",
    "       [0.08147616, 0.08147616, 0.18604557, 0.        , 0.01590615],\n",
    "       [0.0940135 , 0.05634492, 0.19984383, 0.01590615, 0.        ]]"
   ]
  },
  {
   "cell_type": "code",
   "execution_count": 12,
   "id": "fbd24a85",
   "metadata": {},
   "outputs": [
    {
     "name": "stdout",
     "output_type": "stream",
     "text": [
      "S1\t0\n",
      "S2\t0.02229676\t0\n",
      "S3\t0.10571022\t0.10571022\t0\n",
      "S4\t0.08147616\t0.08147616\t0.18604557\t0\n",
      "S5\t0.0940135\t0.05634492\t0.19984383\t0.01590615\t0\n",
      "\tS1\tS2\tS3\tS4\tS5\n"
     ]
    }
   ],
   "source": [
    "dm = squareform_to_dist(x)\n",
    "print(dm)"
   ]
  },
  {
   "cell_type": "code",
   "execution_count": 22,
   "id": "c47a915e",
   "metadata": {},
   "outputs": [],
   "source": [
    "constructor = DistanceTreeConstructor()\n",
    "\n",
    "#tree = constructor.upgma(dm)\n",
    "#print(tree)\n",
    "\n",
    "tree = constructor.nj(dm)\n",
    "#print(tree)"
   ]
  },
  {
   "cell_type": "code",
   "execution_count": 23,
   "id": "e118a45b",
   "metadata": {},
   "outputs": [
    {
     "data": {
      "image/png": "[encoded data removed]",
      "text/plain": [
       "<Figure size 432x288 with 1 Axes>"
      ]
     },
     "metadata": {
      "needs_background": "light"
     },
     "output_type": "display_data"
    }
   ],
   "source": [
    "tree.ladderize()  # Flip branches so deeper clades are displayed at top\n",
    "draw(tree)"
   ]
  }
 ],
 "metadata": {
  "kernelspec": {
   "display_name": "Python 3",
   "language": "python",
   "name": "python3"
  },
  "language_info": {
   "codemirror_mode": {
    "name": "ipython",
    "version": 3
   },
   "file_extension": ".py",
   "mimetype": "text/x-python",
   "name": "python",
   "nbconvert_exporter": "python",
   "pygments_lexer": "ipython3",
   "version": "3.9.2"
  }
 },
 "nbformat": 4,
 "nbformat_minor": 5
}
